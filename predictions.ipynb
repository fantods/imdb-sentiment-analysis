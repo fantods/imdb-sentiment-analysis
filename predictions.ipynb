{
 "cells": [
  {
   "cell_type": "code",
   "execution_count": 1,
   "metadata": {},
   "outputs": [],
   "source": [
    "%reload_ext autoreload\n",
    "%autoreload 2\n",
    "%matplotlib inline"
   ]
  },
  {
   "cell_type": "code",
   "execution_count": 2,
   "metadata": {},
   "outputs": [],
   "source": [
    "from fastai.text import *"
   ]
  },
  {
   "cell_type": "code",
   "execution_count": 5,
   "metadata": {},
   "outputs": [],
   "source": [
    "path = Path(\"data/\")\n",
    "\n",
    "batch_size=64\n",
    "\n",
    "data = (\n",
    "    TextList.from_folder(path)\n",
    "    .filter_by_folder(include=['train', 'test', 'unsup'])\n",
    "    .random_split_by_pct(0.1)\n",
    "    .label_for_lm()\n",
    "    .databunch(bs=batch_size)\n",
    ")\n",
    "\n",
    "classifier_data = (\n",
    "    TextList.from_folder(path, vocab=data.vocab)\n",
    "    .split_by_folder(valid='test')\n",
    "    .label_from_folder(classes=['neg', 'pos'])\n",
    "    .databunch(bs=16)\n",
    ")"
   ]
  },
  {
   "cell_type": "code",
   "execution_count": 6,
   "metadata": {},
   "outputs": [],
   "source": [
    "learn = text_classifier_learner(classifier_data, AWD_LSTM, drop_mult=0.5)\n",
    "learn.load_encoder('encoder-5-epochs')"
   ]
  },
  {
   "cell_type": "code",
   "execution_count": 7,
   "metadata": {},
   "outputs": [
    {
     "data": {
      "text/plain": [
       "RNNLearner(data=TextClasDataBunch;\n",
       "\n",
       "Train: LabelList (25000 items)\n",
       "x: TextList\n",
       "xxbos xxmaj marie : xxmaj you are smooth . xxmaj dan : xxmaj no , i 'm not smooth . i 'm xxmaj dan . \n",
       " \n",
       "  xxmaj if you 're anything like me , smooth and single do not go together . xxmaj you see someone you like , rare enough as that can be , and you want to say something but you do n't . xxmaj or maybe you do say something but it ends up being perhaps the least intelligent thing you 've ever said in your life . xxmaj more often then not though , you stare from afar and admire without having to deal with taking that which most agree is the only way to get anywhere in life  a risk . xxmaj you ca n't blame a guy for being a little frightened though . xxmaj maybe he 's been burned hard before or maybe he 's trying to focus all his energy on his career . xxmaj there are reasons , some valid , some not , and all of them can be interpreted as excuses rather than reason . xxmaj you tell yourself you do n't need it or it is n't the right time for you but you still wish it were happening . xxmaj any way you break it down , it 's not easy . xxmaj sound familiar ? xxmaj if you thought yes even just a little , then xxup dan xxup in xxup real xxup life , the new comedy from director xxmaj peter xxmaj hedges , is a must - see . xxmaj it will reach inside of you and somehow manage to both break and warm your heart all at once . \n",
       " \n",
       "  xxmaj the xxmaj dan from the title is xxmaj dan xxmaj burns ( xxmaj steve xxmaj carell ) , an advice columnist who is admired for his insight into living a balanced , fulfilling and morally uplifting life . xxmaj four years or so before the film opens on xxmaj dan waking up to his day , he lost his wife and love of his life . xxmaj after that tragedy , xxmaj dan was left to raise their three daughters alone . xxmaj between that and focusing on his career , finding love again was not one of xxmaj dan 's priorities . xxmaj and so he became more functional than feeling . xxmaj removed from the power of intimacy , xxmaj dan no longer knows what it means to be that close to someone and has resigned himself to never knowing that again . xxmaj that is , until he meets xxmaj marie ( xxmaj juliette xxmaj binoche ) in a book and tackle shop in xxmaj connecticut on a quiet morning . xxmaj they 're interaction is casual , comfortable and it catches both of them off guard . xxmaj there is only one problem really . xxmaj she is already seeing someone . xxmaj unfortunately for all involved , that someone is xxmaj dan 's brother , xxmaj mitch ( xxmaj dane xxmaj cook ) . xxmaj his entire family has come up to their parents ' country home for their yearly visit and xxmaj dan must now spend the weekend pining and yearning for the fleeting feeling he had with xxmaj marie that morning . xxmaj it only lasted an hour or so but it only took that long to awaken xxmaj dan 's heart from its coma . \n",
       " \n",
       "  xxmaj with so many family members to deal with ( xxmaj jack xxmaj mahoney and xxmaj dianne xxmaj wiest are at the helm ) , xxup dan xxup in xxup real xxup life does drift away from its grander purpose from time to time . xxmaj while the cyclone of kids and parents and aunts and uncles makes for trying times for xxmaj dan , xxmaj hedges also uses it unnecessarily as a means to distract , with the presumption that it would ultimately make for a more complete film . xxmaj luckily , xxmaj hedges has got xxmaj carell to carry the heavy burden . xxmaj it is a pleasure to watch xxmaj steve xxmaj carell come into his own more and more with every picture he makes ( despite the occasional xxup evan xxup almighty - sized misstep ) . xxmaj he is charismatic , charming and obviously a sharp humorist . xxmaj as xxmaj dan , he is also self - deprecating , awkward and scared . xxmaj carell is the rare comedian who pushes himself to find character in his roles rather than rely solely on his comedic instincts and established persona . xxmaj perhaps more importantly , he is entirely relatable as xxmaj dan . xxmaj whether he 's flopping down on the cot in the laundry room where he is subjected to sleep as the only single adult at this reunion or fidgeting around the kitchen , unable to stan d still in his anxiety , xxmaj dan is every guy who has even been unsure of himself and felt alone in the crowd . xxmaj carell gives xxmaj dan so much heart that he becomes the heart of the film itself at the same time . \n",
       " \n",
       "  i wondered after seeing the film if i enjoyed the it as much as i did , despite its slight shortcomings ( xxmaj juliette xxmaj binoche  i know you might like to lighten up every now and then but i do n't recommend it unless there is chocolate involved ) , because of where i am in my life . xxmaj would someone who has found that someone else derive as much meaning and comfort from this film ? i ca n't say . xxmaj what i can say , as someone who knows what it means to be lonely , xxup dan xxup in xxup real xxup life knows what it means to be surprised by life and love and how these moments and people need to be appreciated and cherished . xxmaj it also knows that anyone who might be feeling lonely on any given day or for months at a time needs to be reminded that surprises still happen .,xxbos xxmaj although i 've long been a fan of xxmaj peter xxmaj weir , i had n't watched any of his xxmaj australian movies until i watched xxmaj the xxmaj last xxmaj wave . xxmaj and it was a pleasant , unpredictable surprise . \n",
       " \n",
       "  xxmaj richard xxmaj chamberlain plays xxmaj david , a lawyer invited to defend five aborigines charged with murdering another xxmaj aborigine . xxmaj for xxmaj david 's peers it 's a clear case of drunken disorder and they think they should plead guilty and serve a quick sentence . xxmaj but xxmaj david believes there 's a mystery underneath the murder , linked to tribal rituals . xxmaj as his investigation proceeds he learns not only things about his clients but about himself too . \n",
       " \n",
       "  xxmaj to reveal more would be to spoil one of the strangest movies i 've ever seen . i can only say that this movie goes in directions that no one will be expecting . \n",
       " \n",
       "  xxmaj there are many elements that make this a fascinating movie : xxmaj chamberlain 's acting , for instance ; but also the performances by xxmaj david xxmaj gulpilil , who plays a young aborigine who introduces xxmaj david into tribal mysteries ; and xxmaj xxunk xxmaj xxunk , who plays an old aborigine who 's a spiritual guide . xxmaj the relationships between these three characters make the heart of the movie . \n",
       " \n",
       "  xxmaj but there 's also the way xxmaj weir suggests the supernatural in the movie . xxmaj david has dreams that warn him of the future . xxmaj australia is undergoing awful weather , with storms , hail falling and even a mysterious black rain that may be nothing more than pollution . xxmaj but it 's also related to the case xxmaj david is defending . xxmaj how it 's related is one of the great revelations of the movie . xxmaj out of little events xxmaj weir manages to create an atmosphere of dread and oppression , suggesting future horrors without really showing anything . \n",
       " \n",
       "  xxmaj charles xxmaj wain 's score is fantastic , especially the use of the xxunk . xxmaj the photography is also quite good . xxmaj russell xxmaj boyd , xxmaj weir 's longtime xxup dp who won an xxmaj oscar in 2004 for xxmaj master and xxmaj commander , depicts a dark , creepy world full of mystery . \n",
       " \n",
       "  i also find it remarkable that for a movie centered on aborigines , it does n't turn into an indictment against white culture or into a sappy celebration of the their traditions , like xxmaj dances xxmaj with xxmaj wolves or xxmaj the xxmaj last xxmaj samurai . xxmaj this movie is too clever to be that simplistic . \n",
       " \n",
       "  xxmaj sometimes it can be frustrating , and it may upset viewers who expect to finish a movie with everything making sense ; but for those who do n't mind some strangeness or ambiguity , xxmaj the xxmaj last xxmaj wave is a great movie to watch .,xxbos i was up late flipping cable channels one night and ran into this movie from about 10 minutes into the start - every time i even thought going to bed , something kept on telling me to keep on watching it even though it was way way way past my bedtime . \n",
       " \n",
       "  xxmaj this movie could have been another easy slam dunk anti - gun film , but instead they chose to examine the aftereffects of the shootings . xxmaj and even better , the movie kept on with the real life - just when you think they are going to take the easy and obviously contrived way out , a twist comes along and changes the whole outlook of the movie . xxmaj this film not only does n't follow the formula , it shows how other events often lead up to and / or affect what happens afterwards . \n",
       " \n",
       "  i only wish the filmmakers had explored the issues around anti - depressant drugs more - the kids from xxmaj xxunk who did the shootings were on them for years and it was frightening to watch the way xxmaj deanna popped them every time the nightmares started . xxmaj up until recently they were dispensing the stuff like candy and only now do they even begin to understand what long term effects the drugs have . xxmaj it was very refreshing to see that the mental illness aspect of the story was given quite a bit of film , having a relative who suffers from a mental illness , i can say that the movie was dead nuts on in every aspect of mental illnesses . xxmaj bravo to the director and writer who obviously did their homework on those issues . xxmaj and for those who think certain things could n't happen in a hospital ( i do n't want to tell any particulars ) , you 're dead wrong on that too - i 've been there . xxmaj the script was so real it was amazing . \n",
       " \n",
       "  xxmaj go xxup buy this film and show it to your teenage kids before it 's too late . xxmaj someday they 'll thank you for it .,xxbos xxmaj it is very hard to rate this film . xxmaj as entertainment value for 21st century viewers , it fails miserably . xxmaj however , for the student of early sound films and history , it is a jewel . \" xxmaj show of xxmaj shows \" was a revue filmed to compete with xxup mgm 's successful \" xxmaj hollywood xxmaj revue of 1929 \" , which still survives intact complete with its xxmaj technicolor scenes . \n",
       " \n",
       "  xxmaj the purpose of the all - star revue was to showcase a particular studio 's silent stars in speaking roles , and show that they could make the transition . xxmaj however , xxmaj warner xxmaj bros. seems to have forgotten this and employs many acts and stars that they did n't even have under long - term contract such as xxmaj ben xxmaj turpin , xxmaj lloyd xxmaj hamilton , xxmaj beatrice xxmaj lillie , and even a marching band . xxmaj meanwhile , their biggest talent - xxmaj al xxmaj jolson - is noticeably absent . xxmaj even at a high salary he could not be compelled to join in . xxmaj almost every act is overly long and the film plays like a dozen or so xxmaj vitaphone shorts strung together with no continuity . xxmaj the finale is also overly long , but it is really enjoyable with all of its dance numbers . \n",
       " \n",
       "  xxmaj the highlights of the film are two numbers from xxmaj winnie xxmaj lightner - \" xxmaj xxunk xxmaj xxunk \" and \" xxmaj singin in the xxmaj bathtub \" , a couple of numbers with xxmaj nick xxmaj lucas , xxmaj john xxmaj barrymore performing xxmaj shakespeare , and the xxmaj chinese xxmaj fantasy \" xxmaj li xxmaj po xxmaj li \" with xxmaj nick xxmaj lucas and xxmaj myrna xxmaj loy . xxmaj this last number is the only part of the film that survives in xxmaj technicolor , and it really is quite attractive . xxmaj reasonably enough , the players in these good acts were long - term xxmaj warner xxmaj bros. stars so perhaps the director knew how to play to their strengths since he was familiar with them . \n",
       " \n",
       "  xxmaj this film acts as a snapshot at an odd point in film history - the year 1929 , which was the bridge year between two eras - the silent and sound eras , and the roaring 20 's and the xxmaj great xxmaj depression . xxmaj just two years later this same film would have had an entirely different cast , as xxmaj warner xxmaj bros. would abandon its silent era stars and the stars they hired just to produce the early musicals in favor of those stars that gave xxmaj warner xxmaj bros. its distinctive urban look and feel - xxmaj james xxmaj cagney , xxmaj joan xxmaj blondell , xxmaj edward xxup g. xxmaj robinson , and others .,xxbos xxmaj when i first got my xxup n64 when i was five or six , i fell in love with it , and my first game was xxmaj super xxmaj mario xxunk i xxup loved xxunk graphics were great for it 's time , a good plot , great courses and above all , the best music i heard in a xxmaj nintendo game . \n",
       " \n",
       "  i do n't remember the plot completely , but i think xxmaj princess xxmaj peach was kidnapped by xxmaj bowser , and xxmaj mario has to rescue her . xxmaj the object of the game is to get 120 stars from the curses in the castle . xxmaj each had about five or six xxunk to get the stars . xxmaj there are xxunk parts of the castle , where you can get more stars . xxmaj but of course , you have beat xxunk think there are three levels to beat xxmaj bowser on * xxmaj lets start with the characters . xxmaj mario is the main character , and gets helpful advice from xxmaj toad , so he is basically one of your only alliances . i heard that xxmaj luigi and xxmaj yoshi are in the game towards the end . xxmaj the main villain is xxmaj bowser , and there are a bunch of other characters like xxmaj boo and xxmaj xxunk . xxmaj the characters are really great . \n",
       " \n",
       "  xxmaj next , how about the xxunk say xxmaj gameplay is more important then the graphics , and i agree completely . xxmaj but with he great plot , there are great graphics . xxmaj especially for it 's time . i have a whole bunch of other xxmaj nintendo games like 007 and their graphics do n't compare to xxmaj super xxmaj mario . xxmaj bright colors , great effects and awesome sound effects . i found the graphics in the water courses very very good . xxmaj next to the xxmaj bowser world ones , it has the best graphics in the game . \n",
       " \n",
       "  xxmaj now , the music . xxmaj this is my favorite part of the game . xxmaj growing up , when i played this at a young age , xxmaj i'd gladly leave the game on all night so the music would put me to sleep . xxmaj especially the music from xxmaj jolly xxmaj roger xxmaj bay , which was peaceful and wonderful . xxmaj there are others that are great too , especially in , once again , the worlds with xxmaj bowser , are the ones that stick with me the most and are my favorites . \n",
       " \n",
       "  xxmaj this game was my favorite past time as a developing gamer , and i love it . xxmaj this game gets 10 / 10 or xxrep 5 * ( 5 ) / xxrep 5 * ( 5 ) xxup go xxup play xxup the xxup game !\n",
       "y: CategoryList\n",
       "pos,pos,pos,pos,pos\n",
       "Path: data;\n",
       "\n",
       "Valid: LabelList (25000 items)\n",
       "x: TextList\n",
       "xxbos i saw this movie today ( opened yesterday here ) and was simply delighted . \n",
       " \n",
       "  i saw a review that said something to the effect that the reviewer thought this would be just another teen movie , but then found it was based on xxmaj shakespeare 's xxmaj twelfth xxmaj night ... and then started trying to justify liking this flick on xxmaj shakespearean grounds . i really think this is going way overboard : the only connections i could see with xxmaj twelfth xxmaj night are ( a ) the basic conceit of a girl masquerading as a man ; ( b ) the extensive male - female humor arising out of that basic conceit ; and ( c ) some of the names ( including xxmaj viola & xxmaj duke ) . \n",
       " \n",
       "  xxmaj aside from those names , the thematic xxunk ( a & b ) are really great themes for any script , and this movie 's script is no exception . xxmaj beyond that , though , this really is a simply delightful and very contemporary / traditional teen flick . xxmaj and that 's a perfectly legit genre even if highbrows have to find an excuse to like it ... like alluding to xxmaj shakespeare . \n",
       " \n",
       "  xxmaj the movie is bright , fast - paced , emotive , stylized , funny ... full of teen hormones and teen humor and male / female humor suitable for all ages . xxmaj and that 's really the best part xxup imho : really just about every male stereotype and every female stereotype is depicted in roundly appealing over - the - top fun . xxmaj those stereotypes are parodied relentlessly but affectionately , with such a complexity of invention that i 'm still a little bewildered ... but really do n't feel at all disappointed in that regard , it 's not that kind of a movie : things come at you fast and fun and you get a laugh and a groan and then move on to the next split - second happening . \n",
       " \n",
       "  xxmaj amanda xxmaj bynes really is just delightful as xxmaj viola / xxmaj sebastian ; xxmaj channing xxmaj tatum makes a wonderful xxmaj duke ; xxmaj david xxmaj cross does a wonderfully over the top xxmaj principal xxmaj gold . xxmaj all of the acting and characterizations were fine and on target . xxmaj cinematography was excellent . \n",
       " \n",
       "  xxmaj wonderful entertainment from beginning to end ... check it out !,xxbos xxmaj being an xxmaj israeli xxmaj jew of naturally sarcastic nature as well as a lover of different and independent cinema , it always gives me pleasure to see a film that takes a view on the holocaust that 's sensitive and respectful while also being original and unusual . xxmaj while i have n't read the book  or , for that matter , heard of its existence prior to watching the film  and therefore can not , like some other reviewers , comment on how they stack up in comparison , xxmaj everything xxmaj is xxmaj illuminated gave me great pleasure , and i can certainly comment on that . \n",
       " \n",
       "  xxmaj to label xxmaj everything xxmaj is xxmaj illuminated a holocaust film would be to do it great injustice , even though it is undeniably about the holocaust . xxmaj so would labeling it as a comedy or a travel film , although it 's about a journey and is as exceptionally funny as it is moving . xxmaj everything xxmaj is xxmaj illuminated is about xxmaj jonathan xxmaj safran xxmaj foer  played to minimalist perfection by xxmaj elijah xxmaj wood , in the most impressive dramatic performance i 've seen him in yet , with a poker face that shows nothing and reveals all  a young xxmaj american xxmaj jew , and an obsessive collector of family xxunk and historical artifacts , who travels to the xxmaj ukraine on a journey to find the woman who saved his grandfather from the xxmaj nazis . xxmaj it 's also about xxmaj alex , his tour guide through the xxmaj ukraine , and xxmaj alex 's grandfather . xxmaj what 's fascinating about these characters is that in the beginning of the film they look like comic relief to balance out the melancholy nature of xxmaj wood 's character ; but both xxmaj alex and his grandfather go through fascinating changes throughout the film , and turn out to be at least as important as xxmaj jonathan . xxmaj in fact , xxmaj boris xxmaj leskin 's as the grumpy , self - declared blind grandfather turns out to be the finest dramatic performance in the film . \n",
       " \n",
       "  xxmaj aside from the surreal nature of the film and the characters , the beautiful mix of original acoustic music and xxmaj russian folk music , the sensitive cinematography and the chilling contrast between the beauty of the landscapes and the horrors of history , what made xxmaj everything xxmaj is xxmaj illuminated a powerful and moving experience for me was the fact that from xxmaj alex and his grandfather we get a very different and original viewpoint on this painful subject ; several excellent films , such as xxmaj the xxmaj grey xxmaj zone and xxmaj downfall , have already given us the point of view of the lower - rank xxmaj nazis who are presented as human beings who are n't necessarily fully aware of the moral implications of their actions but are caught up in the reality of the war . xxmaj everything xxmaj is xxmaj illuminated presents a point of view rarely treated before : xxmaj alex 's point of view is that of a young man who was born many years after the war , who sees it as hardly more than cold historical fact , who finds himself having to face up to the horrors his own people  and maybe his own family as well  were capable of . xxmaj the change in xxmaj alex 's attitude  and his grandfather 's  towards xxmaj jonathan , towards the xxmaj holocaust , and towards the xxmaj jewish people in general , makes the film a fascinating and original study in character development . \n",
       " \n",
       "  xxmaj everything xxmaj is xxmaj illuminated is a terrific directorial debut for actor xxmaj liev xxmaj schreiber , and one of the most original and unique films of 2005 . xxmaj it 's a highly recommended viewing experience , especially or anyone interested in the holocaust and xxmaj world xxmaj war xxup ii .,xxbos i found the story to be just enough of a thriller that the wonderful henry xxunk music did n't lull me . julie andrews was excellant and i sure do n't understand why this movie had problems at the box office when it came out because it just makes me happy at the end to have everybody singing . and i do like happy ever after endings which i think you can say this movie has along with some traditional blake edwards humor ...,xxbos xxmaj you know sometimes you just got ta have it ? xxmaj that 's how this movie is with me . i am almost embarrassed to admit that i like it , it is so goofy in some parts , but i find myself reaching for it when i 'm down and just need a good laugh ... and trust me , i am just not a \" goofy movie \" kinda guy . \n",
       " \n",
       "  xxmaj you can read the synopsis so i do n't have to bore you with that , just rest assured , if you like xxmaj kelsey xxmaj grammer you will probably like this movie . \n",
       " \n",
       "  xxmaj one more thing , be xxup sure to watch the end credits . xxmaj you do n't need to read them , just watch them and catch the performance of \" xxmaj in the xxmaj navy \" by the xxmaj village xxmaj people ... and friends .,xxbos i was n't expecting much from this tale of a kid whose term paper is stolen and turned into a movie script .. who then he travels to hollywood to get even .. but .. hey .. it 's still a fun film . xxmaj frankie xxmaj muniz of \" xxmaj malcom in the xxmaj middle \" fame stars as the kid and is fairly good and xxmaj amanda xxmaj bynes as his friend is also very good . xxmaj yea the film does work as an advertisement for xxmaj universal xxmaj studios theme park and is really kinda a silly kids film .. but i enjoyed it anyways . xxup grade : xxup b-\n",
       "y: CategoryList\n",
       "pos,pos,pos,pos,pos\n",
       "Path: data;\n",
       "\n",
       "Test: None, model=SequentialRNN(\n",
       "  (0): MultiBatchEncoder(\n",
       "    (module): AWD_LSTM(\n",
       "      (encoder): Embedding(60003, 400, padding_idx=1)\n",
       "      (encoder_dp): EmbeddingDropout(\n",
       "        (emb): Embedding(60003, 400, padding_idx=1)\n",
       "      )\n",
       "      (rnns): ModuleList(\n",
       "        (0): WeightDropout(\n",
       "          (module): LSTM(400, 1150, batch_first=True)\n",
       "        )\n",
       "        (1): WeightDropout(\n",
       "          (module): LSTM(1150, 1150, batch_first=True)\n",
       "        )\n",
       "        (2): WeightDropout(\n",
       "          (module): LSTM(1150, 400, batch_first=True)\n",
       "        )\n",
       "      )\n",
       "      (input_dp): RNNDropout()\n",
       "      (hidden_dps): ModuleList(\n",
       "        (0): RNNDropout()\n",
       "        (1): RNNDropout()\n",
       "        (2): RNNDropout()\n",
       "      )\n",
       "    )\n",
       "  )\n",
       "  (1): PoolingLinearClassifier(\n",
       "    (layers): Sequential(\n",
       "      (0): BatchNorm1d(1200, eps=1e-05, momentum=0.1, affine=True, track_running_stats=True)\n",
       "      (1): Dropout(p=0.2)\n",
       "      (2): Linear(in_features=1200, out_features=50, bias=True)\n",
       "      (3): ReLU(inplace)\n",
       "      (4): BatchNorm1d(50, eps=1e-05, momentum=0.1, affine=True, track_running_stats=True)\n",
       "      (5): Dropout(p=0.1)\n",
       "      (6): Linear(in_features=50, out_features=2, bias=True)\n",
       "    )\n",
       "  )\n",
       "), opt_func=functools.partial(<class 'torch.optim.adam.Adam'>, betas=(0.9, 0.99)), loss_func=FlattenedLoss of CrossEntropyLoss(), metrics=[<function accuracy at 0x7f064f7df1e0>], true_wd=True, bn_wd=True, wd=0.01, train_bn=True, path=PosixPath('data'), model_dir='models', callback_fns=[<class 'fastai.basic_train.Recorder'>], callbacks=[RNNTrainer\n",
       "learn: ...\n",
       "alpha: 2.0\n",
       "beta: 1.0], layer_groups=[Sequential(\n",
       "  (0): Embedding(60003, 400, padding_idx=1)\n",
       "  (1): EmbeddingDropout(\n",
       "    (emb): Embedding(60003, 400, padding_idx=1)\n",
       "  )\n",
       "), Sequential(\n",
       "  (0): WeightDropout(\n",
       "    (module): LSTM(400, 1150, batch_first=True)\n",
       "  )\n",
       "  (1): RNNDropout()\n",
       "), Sequential(\n",
       "  (0): WeightDropout(\n",
       "    (module): LSTM(1150, 1150, batch_first=True)\n",
       "  )\n",
       "  (1): RNNDropout()\n",
       "), Sequential(\n",
       "  (0): WeightDropout(\n",
       "    (module): LSTM(1150, 400, batch_first=True)\n",
       "  )\n",
       "  (1): RNNDropout()\n",
       "), Sequential(\n",
       "  (0): PoolingLinearClassifier(\n",
       "    (layers): Sequential(\n",
       "      (0): BatchNorm1d(1200, eps=1e-05, momentum=0.1, affine=True, track_running_stats=True)\n",
       "      (1): Dropout(p=0.2)\n",
       "      (2): Linear(in_features=1200, out_features=50, bias=True)\n",
       "      (3): ReLU(inplace)\n",
       "      (4): BatchNorm1d(50, eps=1e-05, momentum=0.1, affine=True, track_running_stats=True)\n",
       "      (5): Dropout(p=0.1)\n",
       "      (6): Linear(in_features=50, out_features=2, bias=True)\n",
       "    )\n",
       "  )\n",
       ")])"
      ]
     },
     "execution_count": 7,
     "metadata": {},
     "output_type": "execute_result"
    }
   ],
   "source": [
    "learn.load('classifier-stage-4-v2')"
   ]
  },
  {
   "cell_type": "code",
   "execution_count": 8,
   "metadata": {},
   "outputs": [
    {
     "data": {
      "text/plain": [
       "(Category pos, tensor(1), tensor([2.1590e-05, 9.9998e-01]))"
      ]
     },
     "execution_count": 8,
     "metadata": {},
     "output_type": "execute_result"
    }
   ],
   "source": [
    "learn.predict(\"I like this movie.\")"
   ]
  },
  {
   "cell_type": "code",
   "execution_count": 9,
   "metadata": {},
   "outputs": [
    {
     "data": {
      "text/plain": [
       "(Category neg, tensor(0), tensor([0.7919, 0.2081]))"
      ]
     },
     "execution_count": 9,
     "metadata": {},
     "output_type": "execute_result"
    }
   ],
   "source": [
    "learn.predict(\"I hate this movie\")"
   ]
  },
  {
   "cell_type": "code",
   "execution_count": 10,
   "metadata": {},
   "outputs": [
    {
     "data": {
      "text/plain": [
       "(Category pos, tensor(1), tensor([0.0018, 0.9982]))"
      ]
     },
     "execution_count": 10,
     "metadata": {},
     "output_type": "execute_result"
    }
   ],
   "source": [
    "learn.predict(\"I found this movie to be decent\")"
   ]
  },
  {
   "cell_type": "code",
   "execution_count": 12,
   "metadata": {},
   "outputs": [
    {
     "data": {
      "text/plain": [
       "(Category pos, tensor(1), tensor([0.0078, 0.9922]))"
      ]
     },
     "execution_count": 12,
     "metadata": {},
     "output_type": "execute_result"
    }
   ],
   "source": [
    "learn.predict(\"This movie has made me feel things that I haven't about a movie in a very long time. If you are anything like me you will definitely feel a sense of 'everything is gonna be alright' because of the generous sprinkling of light humour that makes the situation feel less serious than it actually is. The emotional roller coaster that begins right at the beginning of the movie to the very end has you feeling more and more frustrated and on edge as it goes on. Don't get me wrong this movie is absolutely stunning and amazing and a cliffhanger at the end has you wanting more and more. I'm definitely very excited to see how this storyline will carry out in the next Avengers movie.\")"
   ]
  },
  {
   "cell_type": "code",
   "execution_count": 13,
   "metadata": {},
   "outputs": [
    {
     "data": {
      "text/plain": [
       "(Category pos, tensor(1), tensor([0.3595, 0.6405]))"
      ]
     },
     "execution_count": 13,
     "metadata": {},
     "output_type": "execute_result"
    }
   ],
   "source": [
    "review = \"\"\"\n",
    "Suicide Squad was a disappointment to me. May be I got hooked on the hype or was expecting too much from WB. This movie had a great concept that we saw on the small screen, both TV series and animated. For some reason, those formats did it better than this theatrical release. \n",
    "\n",
    "This movie suffered from all fronts, poor writing which is the number one problem for me. The story was just all over the place with such in coherency, it's visible at every point. Not enough time was spent in developing these characters for their introduction to the big stage. Poor dialogue was another major problem which is just so stupid at some points. \n",
    "\n",
    "But Suicide Squad still could have been saved with the main plot and a great villain. Sadly that too was a major problem. The main plot didn't make sense because the movie itself went in so many directions that none of it could have come together and gel.The villain was a total failure. Nothing about this person was intriguing and just falls so flat. Story and main purpose was so awful for a big summer blockbuster. \n",
    "\n",
    "This movie probably only had about two things going for it. Majority of the casting was great including Will Smith, Margot Robbie, Viola Davis, Jared Leto, and Jai Courtney. Yes Jai Courtney, I'm shocked too. I really think his role should have been expanded. Notable miscast would be Joel Kinnaman and Cara Delevingne. Joel Kinnaman portrayal of Rick Flag was out of touch of what that character should be and for Enchantress, someone, more older with more acting depth should have been chosen over Cara Delevingne. \n",
    "\n",
    "The other thing would be, through and through it's a much better movie than Batman V Superman. I know that's not really helping but still. A weak six stars and a onetime watch.\n",
    "\"\"\"\n",
    "\n",
    "learn.predict(review)"
   ]
  },
  {
   "cell_type": "code",
   "execution_count": null,
   "metadata": {},
   "outputs": [],
   "source": []
  }
 ],
 "metadata": {
  "kernelspec": {
   "display_name": "Python 3",
   "language": "python",
   "name": "python3"
  },
  "language_info": {
   "codemirror_mode": {
    "name": "ipython",
    "version": 3
   },
   "file_extension": ".py",
   "mimetype": "text/x-python",
   "name": "python",
   "nbconvert_exporter": "python",
   "pygments_lexer": "ipython3",
   "version": "3.7.2"
  }
 },
 "nbformat": 4,
 "nbformat_minor": 2
}
