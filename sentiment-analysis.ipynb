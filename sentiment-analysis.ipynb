{
 "cells": [
  {
   "cell_type": "code",
   "execution_count": 1,
   "metadata": {},
   "outputs": [],
   "source": [
    "%reload_ext autoreload\n",
    "%autoreload 2\n",
    "%matplotlib inline"
   ]
  },
  {
   "cell_type": "code",
   "execution_count": 2,
   "metadata": {},
   "outputs": [],
   "source": [
    "from fastai.text import *"
   ]
  },
  {
   "cell_type": "code",
   "execution_count": 3,
   "metadata": {},
   "outputs": [
    {
     "data": {
      "text/plain": [
       "[PosixPath('data/tmp_clas'),\n",
       " PosixPath('data/unsup'),\n",
       " PosixPath('data/test'),\n",
       " PosixPath('data/README'),\n",
       " PosixPath('data/train'),\n",
       " PosixPath('data/imdb.vocab'),\n",
       " PosixPath('data/models'),\n",
       " PosixPath('data/tmp_lm')]"
      ]
     },
     "execution_count": 3,
     "metadata": {},
     "output_type": "execute_result"
    }
   ],
   "source": [
    "# Dataset contains 100,000 reviews\n",
    "# 25,000 labelled positive or negative\n",
    "# 25,000 held out for testing\n",
    "# 50,000 are unlabelled\n",
    "path = Path(\"data/\")\n",
    "path.ls()"
   ]
  },
  {
   "cell_type": "code",
   "execution_count": 4,
   "metadata": {},
   "outputs": [
    {
     "data": {
      "text/plain": [
       "[PosixPath('data/train/labeledBow.feat'),\n",
       " PosixPath('data/train/pos'),\n",
       " PosixPath('data/train/neg'),\n",
       " PosixPath('data/train/unsupBow.feat')]"
      ]
     },
     "execution_count": 4,
     "metadata": {},
     "output_type": "execute_result"
    }
   ],
   "source": [
    "(path/'train').ls()"
   ]
  },
  {
   "cell_type": "code",
   "execution_count": 5,
   "metadata": {},
   "outputs": [],
   "source": [
    "# this data follows the imagenet structure where folders indicate labels\n",
    "# the `unsup` directory contains unlabelled instances\n",
    "batch_size=32\n",
    "\n",
    "# this will automatically label data based on folder structure\n",
    "# tokenize the data, truncated to 100 unique tokens\n",
    "    # this does things like seperating contractions\n",
    "    # cleaning content of any HTML or unique symbols\n",
    "    # replacing unknown tokens with xx\n",
    "data = (\n",
    "    TextList.from_folder(path)\n",
    "    # input all text files\n",
    "    .filter_by_folder(include=['train', 'test', 'unsup'])\n",
    "    # randomly split 10% of reviews for validation\n",
    "    .random_split_by_pct(0.1)\n",
    "    # label it for a language model\n",
    "    .label_for_lm()\n",
    "    .databunch(bs=batch_size)\n",
    ")"
   ]
  },
  {
   "cell_type": "code",
   "execution_count": 6,
   "metadata": {},
   "outputs": [
    {
     "data": {
      "text/html": [
       "<table>  <col width='5%'>  <col width='95%'>  <tr>\n",
       "    <th>idx</th>\n",
       "    <th>text</th>\n",
       "  </tr>\n",
       "  <tr>\n",
       "    <th>0</th>\n",
       "    <th>the tenderness and sensitivity of those who are themselves forced to hide to their feelings and identity . xxmaj in addition to the film , the sound track is very good and pleases in spite of not being very well - known . xxmaj although film is short , it is excellent . xxmaj the time that lasts maintains to us in expectation and the end is unexpected . xxbos</th>\n",
       "  </tr>\n",
       "  <tr>\n",
       "    <th>1</th>\n",
       "    <th>the movie like me . xxmaj rani xxmaj mukherjee is much more beautiful in the xxmaj chalte xxmaj chalte , yet gives a more charming performance here ( looks are n't everything ) . xxmaj her husky voice works very well for her fight scenes . xxmaj vivek xxmaj oberoi is also good . xxmaj he is n't the lover boy type though i have to give him credit for</th>\n",
       "  </tr>\n",
       "  <tr>\n",
       "    <th>2</th>\n",
       "    <th>you look close enough ) . xxmaj whether you 've seen it in the theaters or not , it 's probably one of the true enjoyable movies to watch on a weekend afternoon with nothing to do . xxbos xxmaj this is a classic , one of my favourite television series of all time and surely one of the best sitcoms ever . xxmaj mary xxmaj tyler xxmaj moore is</th>\n",
       "  </tr>\n",
       "  <tr>\n",
       "    <th>3</th>\n",
       "    <th>today , throwing the xxup tv out the hotel room window ) , but just rock in general . \\n \\n  xxmaj contrary to what xxmaj jagger said in a recent interview about one of the reasons he clashed with xxmaj frank , that there was n't enough live music footage , there 's a good plenty of live performances , if maybe not as many as some fans</th>\n",
       "  </tr>\n",
       "  <tr>\n",
       "    <th>4</th>\n",
       "    <th>xxmaj over the xxmaj river and xxmaj through the xxmaj woods to xxmaj grandmother 's xxmaj house xxmaj we xxmaj go . xxmaj charlie say that the only problem with that song is that his xxmaj grandma lives in a condominium . \\n \\n  xxmaj overall , this is a great special . \\n \\n  8 / 10 xxbos xxmaj this has to be one of the worst</th>\n",
       "  </tr>\n",
       "</table>\n"
      ],
      "text/plain": [
       "<IPython.core.display.HTML object>"
      ]
     },
     "metadata": {},
     "output_type": "display_data"
    }
   ],
   "source": [
    "data.show_batch()"
   ]
  },
  {
   "cell_type": "code",
   "execution_count": 7,
   "metadata": {},
   "outputs": [
    {
     "data": {
      "text/plain": [
       "['fine',\n",
       " 'town',\n",
       " 'genre',\n",
       " 'flick',\n",
       " 'run',\n",
       " 'heart',\n",
       " 'wants',\n",
       " 'side',\n",
       " 'quality',\n",
       " 'act',\n",
       " 'horrible',\n",
       " 'today',\n",
       " 'city',\n",
       " 'kill',\n",
       " 'example',\n",
       " 'past',\n",
       " 'close',\n",
       " 'writing',\n",
       " 'child',\n",
       " 'tries',\n",
       " 'matter',\n",
       " 'hand',\n",
       " 'etc',\n",
       " 'viewer',\n",
       " 'amazing',\n",
       " 'turns',\n",
       " 'parts',\n",
       " '\\x96',\n",
       " 'enjoyed',\n",
       " 'expect']"
      ]
     },
     "execution_count": 7,
     "metadata": {},
     "output_type": "execute_result"
    }
   ],
   "source": [
    "# the databunch factory method also numericalizes the data\n",
    "# converts tokens into a list of integers for all words used\n",
    "# only keeps words that appear at least twice\n",
    "# vocabulary is limited to 60,000 words by default\n",
    "data.vocab.itos[500:530]"
   ]
  },
  {
   "cell_type": "code",
   "execution_count": 8,
   "metadata": {},
   "outputs": [
    {
     "data": {
      "text/plain": [
       "Text xxbos xxmaj love him or hate him , you have to admit that xxmaj john xxmaj milius has returned in force to make this wonderfully epic movie . xxmaj he only made two other films ( barely ) worthy of note : the underrated xxmaj flight xxmaj of xxmaj the xxmaj intruder and the equally under - rated xxmaj farewell xxmaj to xxmaj the xxmaj king . xxmaj though directed for television , xxmaj rough xxmaj riders has all the qualities of a great war epic from the sixties . \n",
       " \n",
       "  xxmaj what helps xxmaj milius is his love of the subject matter . xxmaj with xxmaj the xxmaj wind xxmaj and xxmaj the xxmaj lion , xxmaj rough xxmaj riders feels as though xxmaj milius has a deep and abiding love for xxmaj theodore xxmaj roosevelt . xxmaj every frame of this movie gives you the feeling that xxmaj milius is working from the heart . xxmaj his passion and respect for his subject matter xxunk the greatest performance of xxmaj tom xxmaj berenger 's career . \n",
       " \n",
       "  xxmaj if you liked this , do see xxmaj the xxmaj wind xxmaj and xxmaj the xxmaj lion ."
      ]
     },
     "execution_count": 8,
     "metadata": {},
     "output_type": "execute_result"
    }
   ],
   "source": [
    "# can also inspect what the tokenized text represents\n",
    "data.train_ds[0][0]"
   ]
  },
  {
   "cell_type": "code",
   "execution_count": 9,
   "metadata": {},
   "outputs": [
    {
     "data": {
      "text/plain": [
       "array([1057,   14,  113,   19, 1859, 1631,   29,    9,    4,   39])"
      ]
     },
     "execution_count": 9,
     "metadata": {},
     "output_type": "execute_result"
    }
   ],
   "source": [
    "# but this data is represented as integers for the LSTM model\n",
    "data.train_ds[0][0].data[20:30]"
   ]
  },
  {
   "cell_type": "code",
   "execution_count": 10,
   "metadata": {},
   "outputs": [],
   "source": [
    "# lets initialize our learning model\n",
    "# this uses the AWD-LSTM model described here: https://arxiv.org/abs/1708.02182\n",
    "# drop_mult represents dropout percentage to reduce overfitting\n",
    "learn = language_model_learner(data, AWD_LSTM, drop_mult=0.3)"
   ]
  },
  {
   "cell_type": "code",
   "execution_count": 11,
   "metadata": {},
   "outputs": [
    {
     "data": {
      "text/html": [],
      "text/plain": [
       "<IPython.core.display.HTML object>"
      ]
     },
     "metadata": {},
     "output_type": "display_data"
    },
    {
     "name": "stdout",
     "output_type": "stream",
     "text": [
      "LR Finder is complete, type {learner_name}.recorder.plot() to see the graph.\n",
      "Min numerical gradient: 9.12E-03\n"
     ]
    },
    {
     "data": {
      "image/png": "[encoded data removed]",
      "text/plain": [
       "<Figure size 432x288 with 1 Axes>"
      ]
     },
     "metadata": {
      "needs_background": "light"
     },
     "output_type": "display_data"
    }
   ],
   "source": [
    "# we can find what the ideal learning rate is for this model:\n",
    "learn.lr_find()\n",
    "learn.recorder.plot()"
   ]
  },
  {
   "cell_type": "code",
   "execution_count": 12,
   "metadata": {},
   "outputs": [
    {
     "data": {
      "text/html": [
       "Total time: 59:58 <p><table style='width:300px; margin-bottom:10px'>\n",
       "  <tr>\n",
       "    <th>epoch</th>\n",
       "    <th>train_loss</th>\n",
       "    <th>valid_loss</th>\n",
       "    <th>accuracy</th>\n",
       "  </tr>\n",
       "  <tr>\n",
       "    <th>1</th>\n",
       "    <th>4.269607</th>\n",
       "    <th>4.125552</th>\n",
       "    <th>0.284005</th>\n",
       "  </tr>\n",
       "  <tr>\n",
       "    <th>2</th>\n",
       "    <th>4.109133</th>\n",
       "    <th>3.997327</th>\n",
       "    <th>0.296537</th>\n",
       "  </tr>\n",
       "</table>\n"
      ],
      "text/plain": [
       "<IPython.core.display.HTML object>"
      ]
     },
     "metadata": {},
     "output_type": "display_data"
    }
   ],
   "source": [
    "# let's train this encoder using the one cycle policy: https://arxiv.org/abs/1803.09820\n",
    "# this is only training the final layer\n",
    "learn.fit_one_cycle(2, 1e-2)"
   ]
  },
  {
   "cell_type": "code",
   "execution_count": 13,
   "metadata": {},
   "outputs": [],
   "source": [
    "learn.save('stage-1')"
   ]
  },
  {
   "cell_type": "code",
   "execution_count": 14,
   "metadata": {},
   "outputs": [
    {
     "data": {
      "text/html": [
       "Total time: 1:41:49 <p><table style='width:300px; margin-bottom:10px'>\n",
       "  <tr>\n",
       "    <th>epoch</th>\n",
       "    <th>train_loss</th>\n",
       "    <th>valid_loss</th>\n",
       "    <th>accuracy</th>\n",
       "  </tr>\n",
       "  <tr>\n",
       "    <th>1</th>\n",
       "    <th>3.864880</th>\n",
       "    <th>3.805120</th>\n",
       "    <th>0.318050</th>\n",
       "  </tr>\n",
       "  <tr>\n",
       "    <th>2</th>\n",
       "    <th>3.771770</th>\n",
       "    <th>3.715986</th>\n",
       "    <th>0.329138</th>\n",
       "  </tr>\n",
       "  <tr>\n",
       "    <th>3</th>\n",
       "    <th>3.679188</th>\n",
       "    <th>3.687170</th>\n",
       "    <th>0.332825</th>\n",
       "  </tr>\n",
       "</table>\n"
      ],
      "text/plain": [
       "<IPython.core.display.HTML object>"
      ]
     },
     "metadata": {},
     "output_type": "display_data"
    }
   ],
   "source": [
    "# let's now train the entire network\n",
    "# note: i'd typically train for atleast 10 epochs here\n",
    "# but since that'd take ~5 hours, i'll opt instead for just a few epochs\n",
    "learn.unfreeze()\n",
    "learn.fit_one_cycle(3, 1e-3)"
   ]
  },
  {
   "cell_type": "code",
   "execution_count": 15,
   "metadata": {},
   "outputs": [],
   "source": [
    "learn.save('stage-2')"
   ]
  },
  {
   "cell_type": "code",
   "execution_count": 17,
   "metadata": {},
   "outputs": [
    {
     "name": "stdout",
     "output_type": "stream",
     "text": [
      "I think this movie was absolutely awful . If you are a Citizen Kane fan , do not pay attention to the plot and plot . The plot motivations were completely implausible and the story was ridiculous . i mean come on , when the bounty hunters believe their black - and -\n",
      "I think this movie was absolutely awful . i had seen a lot of Mel Brooks movies that i have seen , but this is one of them . i 've seen this movie many times and this is not only for the family but also for the family . The movie has good\n",
      "I think this movie was absolutely awful . It was just wonderful . It was a movie that is so thought - provoking . \n",
      " \n",
      "  i would have definitely NEVER watched this movie . i was from Australia . It is one of the worst movies i have ever seen .\n",
      "I think this movie was absolutely awful . It looks like just ten minutes of Gerard Depardieu , Shirley Temple , David Warner , Starvation , Sir Alan Hale , Jack Nicholson and Maggie Cheung ... all appears to have been\n"
     ]
    }
   ],
   "source": [
    "# now that we've trained a simple encoder, we can use it to predict the next words in a movie review\n",
    "text = \"I think this movie was absolutely awful\"\n",
    "words = 50\n",
    "sentences = 4\n",
    "\n",
    "print(\"\\n\".join(\n",
    "    learn.predict(text, words, temperature=0.8) for _ in range(sentences)\n",
    "))"
   ]
  },
  {
   "cell_type": "code",
   "execution_count": 18,
   "metadata": {},
   "outputs": [],
   "source": [
    "# let's save this encoder to build our text classifer\n",
    "learn.save_encoder(\"encoder-5-epochs\")"
   ]
  },
  {
   "cell_type": "code",
   "execution_count": 7,
   "metadata": {},
   "outputs": [],
   "source": [
    "classifier_data = (\n",
    "    TextList.from_folder(path, vocab=data.vocab)\n",
    "    .split_by_folder(valid='test')\n",
    "    .label_from_folder(classes=['neg', 'pos'])\n",
    "    .databunch(bs=16)\n",
    ")"
   ]
  },
  {
   "cell_type": "code",
   "execution_count": 8,
   "metadata": {},
   "outputs": [
    {
     "data": {
      "text/html": [
       "<table>  <col width='90%'>  <col width='10%'>  <tr>\n",
       "    <th>text</th>\n",
       "    <th>target</th>\n",
       "  </tr>\n",
       "  <tr>\n",
       "    <th>xxbos xxmaj match 1 : xxmaj tag xxmaj team xxmaj table xxmaj match xxmaj bubba xxmaj ray and xxmaj spike xxmaj dudley vs xxmaj eddie xxmaj guerrero and xxmaj chris xxmaj benoit xxmaj bubba xxmaj ray and xxmaj spike xxmaj dudley started things off with a xxmaj tag xxmaj team xxmaj table xxmaj match against xxmaj eddie xxmaj guerrero and xxmaj chris xxmaj benoit . xxmaj according to the rules</th>\n",
       "    <th>pos</th>\n",
       "  </tr>\n",
       "  <tr>\n",
       "    <th>xxbos xxmaj pier xxmaj paolo xxmaj pasolini , or xxmaj pee - pee - pee as i prefer to call him ( due to his love of showing male genitals ) , is perhaps xxup the most overrated xxmaj european xxmaj marxist director - and they are thick on the ground . xxmaj how anyone can see \" art \" in this messy , cheap sex - romp concoction is</th>\n",
       "    <th>neg</th>\n",
       "  </tr>\n",
       "  <tr>\n",
       "    <th>xxbos xxmaj four tales of terror regarding the events at a creepy old mansion are recounted to sceptical xxmaj scotland xxmaj yard investigator xxmaj holloway ( xxmaj john xxmaj bennett ) as he investigates the whereabouts of the latest occupant of the house that dripped blood . \\n \\n  xxmaj one can only struggle to find the words to describe the true brilliance that is the xxmaj house xxmaj</th>\n",
       "    <th>pos</th>\n",
       "  </tr>\n",
       "  <tr>\n",
       "    <th>xxbos xxmaj oftentimes , films of this nature come across as a mixed bag of great work along with slight drivel to fill the runtime . xxmaj whether it be the big name support or the project itself , xxmaj paris je t'aime never falls into this realm . i believe i can truly say that the movie as a whole is better than its parts . xxmaj between the</th>\n",
       "    <th>pos</th>\n",
       "  </tr>\n",
       "  <tr>\n",
       "    <th>xxbos xxmaj they did it . xxmaj and , boy , did they do it fantastically or what ! xxmaj the xxup bbc finally brought the xxmaj doctor back to our screens on a xxmaj saturday evening where he belongs ! xxmaj and they did it with style ! \\n \\n  xxup episode xxup one : \" xxmaj rose \" - xxmaj one of the strengths of the new</th>\n",
       "    <th>pos</th>\n",
       "  </tr>\n",
       "</table>\n"
      ],
      "text/plain": [
       "<IPython.core.display.HTML object>"
      ]
     },
     "metadata": {},
     "output_type": "display_data"
    }
   ],
   "source": [
    "classifier_data.show_batch()"
   ]
  },
  {
   "cell_type": "code",
   "execution_count": 10,
   "metadata": {},
   "outputs": [],
   "source": [
    "# create our text classification model with AWD_LSTM and to load our encoder\n",
    "learn = text_classifier_learner(classifier_data, AWD_LSTM, drop_mult=0.5)\n",
    "learn.load_encoder('encoder-5-epochs')"
   ]
  },
  {
   "cell_type": "code",
   "execution_count": 23,
   "metadata": {},
   "outputs": [
    {
     "data": {
      "text/html": [],
      "text/plain": [
       "<IPython.core.display.HTML object>"
      ]
     },
     "metadata": {},
     "output_type": "display_data"
    },
    {
     "name": "stdout",
     "output_type": "stream",
     "text": [
      "LR Finder is complete, type {learner_name}.recorder.plot() to see the graph.\n",
      "Min numerical gradient: 1.32E-02\n"
     ]
    },
    {
     "data": {
      "image/png": "[encoded data removed]",
      "text/plain": [
       "<Figure size 432x288 with 1 Axes>"
      ]
     },
     "metadata": {
      "needs_background": "light"
     },
     "output_type": "display_data"
    }
   ],
   "source": [
    "learn.lr_find()\n",
    "learn.recorder.plot()"
   ]
  },
  {
   "cell_type": "code",
   "execution_count": 24,
   "metadata": {},
   "outputs": [
    {
     "data": {
      "text/html": [
       "Total time: 17:55 <p><table style='width:300px; margin-bottom:10px'>\n",
       "  <tr>\n",
       "    <th>epoch</th>\n",
       "    <th>train_loss</th>\n",
       "    <th>valid_loss</th>\n",
       "    <th>accuracy</th>\n",
       "  </tr>\n",
       "  <tr>\n",
       "    <th>1</th>\n",
       "    <th>0.391684</th>\n",
       "    <th>0.271687</th>\n",
       "    <th>0.896480</th>\n",
       "  </tr>\n",
       "  <tr>\n",
       "    <th>2</th>\n",
       "    <th>0.392072</th>\n",
       "    <th>0.275567</th>\n",
       "    <th>0.902280</th>\n",
       "  </tr>\n",
       "  <tr>\n",
       "    <th>3</th>\n",
       "    <th>0.371133</th>\n",
       "    <th>0.253236</th>\n",
       "    <th>0.900560</th>\n",
       "  </tr>\n",
       "  <tr>\n",
       "    <th>4</th>\n",
       "    <th>0.358661</th>\n",
       "    <th>0.225496</th>\n",
       "    <th>0.912360</th>\n",
       "  </tr>\n",
       "  <tr>\n",
       "    <th>5</th>\n",
       "    <th>0.348394</th>\n",
       "    <th>0.224054</th>\n",
       "    <th>0.912000</th>\n",
       "  </tr>\n",
       "</table>\n"
      ],
      "text/plain": [
       "<IPython.core.display.HTML object>"
      ]
     },
     "metadata": {},
     "output_type": "display_data"
    }
   ],
   "source": [
    "# training the last layer\n",
    "learn.fit_one_cycle(5, 5e-2)"
   ]
  },
  {
   "cell_type": "code",
   "execution_count": 25,
   "metadata": {},
   "outputs": [],
   "source": [
    "learn.save('classifier-stage-1')"
   ]
  },
  {
   "cell_type": "code",
   "execution_count": 26,
   "metadata": {},
   "outputs": [
    {
     "data": {
      "text/html": [
       "Total time: 11:59 <p><table style='width:300px; margin-bottom:10px'>\n",
       "  <tr>\n",
       "    <th>epoch</th>\n",
       "    <th>train_loss</th>\n",
       "    <th>valid_loss</th>\n",
       "    <th>accuracy</th>\n",
       "  </tr>\n",
       "  <tr>\n",
       "    <th>1</th>\n",
       "    <th>0.321438</th>\n",
       "    <th>0.257045</th>\n",
       "    <th>0.899800</th>\n",
       "  </tr>\n",
       "  <tr>\n",
       "    <th>2</th>\n",
       "    <th>0.261705</th>\n",
       "    <th>0.186547</th>\n",
       "    <th>0.931200</th>\n",
       "  </tr>\n",
       "  <tr>\n",
       "    <th>3</th>\n",
       "    <th>0.231998</th>\n",
       "    <th>0.175255</th>\n",
       "    <th>0.935720</th>\n",
       "  </tr>\n",
       "</table>\n"
      ],
      "text/plain": [
       "<IPython.core.display.HTML object>"
      ]
     },
     "metadata": {},
     "output_type": "display_data"
    }
   ],
   "source": [
    "# training the last 2 layers\n",
    "learn.freeze_to(-2)\n",
    "learn.fit_one_cycle(3, slice(2e-4, 1e-2))"
   ]
  },
  {
   "cell_type": "code",
   "execution_count": 27,
   "metadata": {},
   "outputs": [],
   "source": [
    "learn.save('classifier-stage-2')"
   ]
  },
  {
   "cell_type": "code",
   "execution_count": 28,
   "metadata": {},
   "outputs": [
    {
     "data": {
      "image/png": "[encoded data removed]",
      "text/plain": [
       "<Figure size 432x288 with 1 Axes>"
      ]
     },
     "metadata": {
      "needs_background": "light"
     },
     "output_type": "display_data"
    }
   ],
   "source": [
    "learn.recorder.plot_losses()"
   ]
  },
  {
   "cell_type": "code",
   "execution_count": 29,
   "metadata": {},
   "outputs": [
    {
     "data": {
      "image/png": "[encoded data removed]",
      "text/plain": [
       "<Figure size 432x288 with 1 Axes>"
      ]
     },
     "metadata": {
      "needs_background": "light"
     },
     "output_type": "display_data"
    }
   ],
   "source": [
    "learn.recorder.plot_lr()"
   ]
  },
  {
   "cell_type": "code",
   "execution_count": 10,
   "metadata": {},
   "outputs": [
    {
     "data": {
      "text/html": [
       "Total time: 22:19 <p><table style='width:300px; margin-bottom:10px'>\n",
       "  <tr>\n",
       "    <th>epoch</th>\n",
       "    <th>train_loss</th>\n",
       "    <th>valid_loss</th>\n",
       "    <th>accuracy</th>\n",
       "  </tr>\n",
       "  <tr>\n",
       "    <th>1</th>\n",
       "    <th>0.554110</th>\n",
       "    <th>0.546746</th>\n",
       "    <th>0.746520</th>\n",
       "  </tr>\n",
       "  <tr>\n",
       "    <th>2</th>\n",
       "    <th>0.494193</th>\n",
       "    <th>0.460338</th>\n",
       "    <th>0.778320</th>\n",
       "  </tr>\n",
       "  <tr>\n",
       "    <th>3</th>\n",
       "    <th>0.466517</th>\n",
       "    <th>0.402174</th>\n",
       "    <th>0.817920</th>\n",
       "  </tr>\n",
       "</table>\n"
      ],
      "text/plain": [
       "<IPython.core.display.HTML object>"
      ]
     },
     "metadata": {},
     "output_type": "display_data"
    }
   ],
   "source": [
    "# this training was completed in train_classifier.py\n",
    "# training the last 3 layers\n",
    "# learn.load('classifier-stage-2-v2')\n",
    "# learn.freeze_to(-3)\n",
    "# learn.fit_one_cycle(3, slice(1e-4, 5e-3))\n",
    "# learn.save('classifier-stage-3-v2')"
   ]
  },
  {
   "cell_type": "code",
   "execution_count": 10,
   "metadata": {},
   "outputs": [
    {
     "data": {
      "text/html": [
       "\n",
       "    <div>\n",
       "        <style>\n",
       "            /* Turns off some styling */\n",
       "            progress {\n",
       "                /* gets rid of default border in Firefox and Opera. */\n",
       "                border: none;\n",
       "                /* Needs to be in here for Safari polyfill so background images work as expected. */\n",
       "                background-size: auto;\n",
       "            }\n",
       "            .progress-bar-interrupted, .progress-bar-interrupted::-webkit-progress-bar {\n",
       "                background: #F44336;\n",
       "            }\n",
       "        </style>\n",
       "      <progress value='1' class='' max='3', style='width:300px; height:20px; vertical-align: middle;'></progress>\n",
       "      33.33% [1/3 25:36<51:13]\n",
       "    </div>\n",
       "    \n",
       "<table style='width:300px; margin-bottom:10px'>\n",
       "  <tr>\n",
       "    <th>epoch</th>\n",
       "    <th>train_loss</th>\n",
       "    <th>valid_loss</th>\n",
       "    <th>accuracy</th>\n",
       "  </tr>\n",
       "  <tr>\n",
       "    <th>1</th>\n",
       "    <th>0.527406</th>\n",
       "    <th>0.450576</th>\n",
       "    <th>0.787080</th>\n",
       "  </tr>\n",
       "</table>\n",
       "\n",
       "\n",
       "    <div>\n",
       "        <style>\n",
       "            /* Turns off some styling */\n",
       "            progress {\n",
       "                /* gets rid of default border in Firefox and Opera. */\n",
       "                border: none;\n",
       "                /* Needs to be in here for Safari polyfill so background images work as expected. */\n",
       "                background-size: auto;\n",
       "            }\n",
       "            .progress-bar-interrupted, .progress-bar-interrupted::-webkit-progress-bar {\n",
       "                background: #F44336;\n",
       "            }\n",
       "        </style>\n",
       "      <progress value='0' class='progress-bar-interrupted' max='1562', style='width:300px; height:20px; vertical-align: middle;'></progress>\n",
       "      Interrupted\n",
       "    </div>\n",
       "    "
      ],
      "text/plain": [
       "<IPython.core.display.HTML object>"
      ]
     },
     "metadata": {},
     "output_type": "display_data"
    },
    {
     "name": "stderr",
     "output_type": "stream",
     "text": [
      "Traceback (most recent call last):\n",
      "  File \"/home/matt/miniconda3/envs/fastai/lib/python3.7/multiprocessing/queues.py\", line 242, in _feed\n",
      "    send_bytes(obj)\n",
      "  File \"/home/matt/miniconda3/envs/fastai/lib/python3.7/multiprocessing/connection.py\", line 200, in send_bytes\n",
      "    self._send_bytes(m[offset:offset + size])\n",
      "  File \"/home/matt/miniconda3/envs/fastai/lib/python3.7/multiprocessing/connection.py\", line 404, in _send_bytes\n",
      "    self._send(header + buf)\n",
      "  File \"/home/matt/miniconda3/envs/fastai/lib/python3.7/multiprocessing/connection.py\", line 368, in _send\n",
      "    n = write(self._handle, buf)\n",
      "BrokenPipeError: [Errno 32] Broken pipe\n",
      "Traceback (most recent call last):\n",
      "  File \"/home/matt/miniconda3/envs/fastai/lib/python3.7/multiprocessing/queues.py\", line 242, in _feed\n",
      "    send_bytes(obj)\n",
      "  File \"/home/matt/miniconda3/envs/fastai/lib/python3.7/multiprocessing/connection.py\", line 200, in send_bytes\n",
      "    self._send_bytes(m[offset:offset + size])\n",
      "  File \"/home/matt/miniconda3/envs/fastai/lib/python3.7/multiprocessing/connection.py\", line 404, in _send_bytes\n",
      "    self._send(header + buf)\n",
      "  File \"/home/matt/miniconda3/envs/fastai/lib/python3.7/multiprocessing/connection.py\", line 368, in _send\n",
      "    n = write(self._handle, buf)\n",
      "BrokenPipeError: [Errno 32] Broken pipe\n",
      "Traceback (most recent call last):\n",
      "  File \"/home/matt/miniconda3/envs/fastai/lib/python3.7/multiprocessing/queues.py\", line 242, in _feed\n",
      "    send_bytes(obj)\n",
      "  File \"/home/matt/miniconda3/envs/fastai/lib/python3.7/multiprocessing/connection.py\", line 200, in send_bytes\n",
      "    self._send_bytes(m[offset:offset + size])\n",
      "  File \"/home/matt/miniconda3/envs/fastai/lib/python3.7/multiprocessing/connection.py\", line 404, in _send_bytes\n",
      "    self._send(header + buf)\n",
      "  File \"/home/matt/miniconda3/envs/fastai/lib/python3.7/multiprocessing/connection.py\", line 368, in _send\n",
      "    n = write(self._handle, buf)\n",
      "BrokenPipeError: [Errno 32] Broken pipe\n",
      "Traceback (most recent call last):\n",
      "  File \"/home/matt/miniconda3/envs/fastai/lib/python3.7/multiprocessing/queues.py\", line 242, in _feed\n",
      "    send_bytes(obj)\n",
      "  File \"/home/matt/miniconda3/envs/fastai/lib/python3.7/multiprocessing/connection.py\", line 200, in send_bytes\n",
      "    self._send_bytes(m[offset:offset + size])\n",
      "  File \"/home/matt/miniconda3/envs/fastai/lib/python3.7/multiprocessing/connection.py\", line 404, in _send_bytes\n",
      "    self._send(header + buf)\n",
      "  File \"/home/matt/miniconda3/envs/fastai/lib/python3.7/multiprocessing/connection.py\", line 368, in _send\n",
      "    n = write(self._handle, buf)\n",
      "BrokenPipeError: [Errno 32] Broken pipe\n",
      "Traceback (most recent call last):\n",
      "  File \"/home/matt/miniconda3/envs/fastai/lib/python3.7/multiprocessing/queues.py\", line 242, in _feed\n",
      "    send_bytes(obj)\n",
      "  File \"/home/matt/miniconda3/envs/fastai/lib/python3.7/multiprocessing/connection.py\", line 200, in send_bytes\n",
      "    self._send_bytes(m[offset:offset + size])\n",
      "  File \"/home/matt/miniconda3/envs/fastai/lib/python3.7/multiprocessing/connection.py\", line 404, in _send_bytes\n",
      "    self._send(header + buf)\n",
      "  File \"/home/matt/miniconda3/envs/fastai/lib/python3.7/multiprocessing/connection.py\", line 368, in _send\n",
      "    n = write(self._handle, buf)\n",
      "BrokenPipeError: [Errno 32] Broken pipe\n",
      "Traceback (most recent call last):\n",
      "  File \"/home/matt/miniconda3/envs/fastai/lib/python3.7/multiprocessing/queues.py\", line 242, in _feed\n",
      "    send_bytes(obj)\n",
      "  File \"/home/matt/miniconda3/envs/fastai/lib/python3.7/multiprocessing/connection.py\", line 200, in send_bytes\n",
      "    self._send_bytes(m[offset:offset + size])\n",
      "  File \"/home/matt/miniconda3/envs/fastai/lib/python3.7/multiprocessing/connection.py\", line 404, in _send_bytes\n",
      "    self._send(header + buf)\n",
      "  File \"/home/matt/miniconda3/envs/fastai/lib/python3.7/multiprocessing/connection.py\", line 368, in _send\n",
      "    n = write(self._handle, buf)\n",
      "BrokenPipeError: [Errno 32] Broken pipe\n",
      "Traceback (most recent call last):\n",
      "Traceback (most recent call last):\n",
      "  File \"/home/matt/miniconda3/envs/fastai/lib/python3.7/multiprocessing/queues.py\", line 242, in _feed\n",
      "    send_bytes(obj)\n",
      "  File \"/home/matt/miniconda3/envs/fastai/lib/python3.7/multiprocessing/connection.py\", line 200, in send_bytes\n",
      "    self._send_bytes(m[offset:offset + size])\n",
      "  File \"/home/matt/miniconda3/envs/fastai/lib/python3.7/multiprocessing/connection.py\", line 404, in _send_bytes\n",
      "    self._send(header + buf)\n",
      "  File \"/home/matt/miniconda3/envs/fastai/lib/python3.7/multiprocessing/connection.py\", line 368, in _send\n",
      "    n = write(self._handle, buf)\n",
      "BrokenPipeError: [Errno 32] Broken pipe\n",
      "  File \"/home/matt/miniconda3/envs/fastai/lib/python3.7/multiprocessing/queues.py\", line 242, in _feed\n",
      "    send_bytes(obj)\n",
      "  File \"/home/matt/miniconda3/envs/fastai/lib/python3.7/multiprocessing/connection.py\", line 200, in send_bytes\n",
      "    self._send_bytes(m[offset:offset + size])\n",
      "  File \"/home/matt/miniconda3/envs/fastai/lib/python3.7/multiprocessing/connection.py\", line 404, in _send_bytes\n",
      "    self._send(header + buf)\n",
      "  File \"/home/matt/miniconda3/envs/fastai/lib/python3.7/multiprocessing/connection.py\", line 368, in _send\n",
      "    n = write(self._handle, buf)\n",
      "BrokenPipeError: [Errno 32] Broken pipe\n"
     ]
    },
    {
     "ename": "KeyboardInterrupt",
     "evalue": "",
     "output_type": "error",
     "traceback": [
      "\u001b[0;31m---------------------------------------------------------------------------\u001b[0m",
      "\u001b[0;31mKeyboardInterrupt\u001b[0m                         Traceback (most recent call last)",
      "\u001b[0;32m<ipython-input-10-ad35a5c0ca16>\u001b[0m in \u001b[0;36m<module>\u001b[0;34m\u001b[0m\n\u001b[1;32m      2\u001b[0m \u001b[0;31m# train all the layers\u001b[0m\u001b[0;34m\u001b[0m\u001b[0;34m\u001b[0m\u001b[0;34m\u001b[0m\u001b[0m\n\u001b[1;32m      3\u001b[0m \u001b[0mlearn\u001b[0m\u001b[0;34m.\u001b[0m\u001b[0munfreeze\u001b[0m\u001b[0;34m(\u001b[0m\u001b[0;34m)\u001b[0m\u001b[0;34m\u001b[0m\u001b[0;34m\u001b[0m\u001b[0m\n\u001b[0;32m----> 4\u001b[0;31m \u001b[0mlearn\u001b[0m\u001b[0;34m.\u001b[0m\u001b[0mfit_one_cycle\u001b[0m\u001b[0;34m(\u001b[0m\u001b[0;36m3\u001b[0m\u001b[0;34m,\u001b[0m \u001b[0mslice\u001b[0m\u001b[0;34m(\u001b[0m\u001b[0;36m2e-5\u001b[0m\u001b[0;34m,\u001b[0m \u001b[0;36m1e-3\u001b[0m\u001b[0;34m)\u001b[0m\u001b[0;34m)\u001b[0m\u001b[0;34m\u001b[0m\u001b[0;34m\u001b[0m\u001b[0m\n\u001b[0m",
      "\u001b[0;32m~/miniconda3/envs/fastai/lib/python3.7/site-packages/fastai/train.py\u001b[0m in \u001b[0;36mfit_one_cycle\u001b[0;34m(learn, cyc_len, max_lr, moms, div_factor, pct_start, wd, callbacks, tot_epochs, start_epoch)\u001b[0m\n\u001b[1;32m     20\u001b[0m     callbacks.append(OneCycleScheduler(learn, max_lr, moms=moms, div_factor=div_factor, pct_start=pct_start, tot_epochs=tot_epochs, \n\u001b[1;32m     21\u001b[0m                                        start_epoch=start_epoch))\n\u001b[0;32m---> 22\u001b[0;31m     \u001b[0mlearn\u001b[0m\u001b[0;34m.\u001b[0m\u001b[0mfit\u001b[0m\u001b[0;34m(\u001b[0m\u001b[0mcyc_len\u001b[0m\u001b[0;34m,\u001b[0m \u001b[0mmax_lr\u001b[0m\u001b[0;34m,\u001b[0m \u001b[0mwd\u001b[0m\u001b[0;34m=\u001b[0m\u001b[0mwd\u001b[0m\u001b[0;34m,\u001b[0m \u001b[0mcallbacks\u001b[0m\u001b[0;34m=\u001b[0m\u001b[0mcallbacks\u001b[0m\u001b[0;34m)\u001b[0m\u001b[0;34m\u001b[0m\u001b[0;34m\u001b[0m\u001b[0m\n\u001b[0m\u001b[1;32m     23\u001b[0m \u001b[0;34m\u001b[0m\u001b[0m\n\u001b[1;32m     24\u001b[0m \u001b[0;32mdef\u001b[0m \u001b[0mlr_find\u001b[0m\u001b[0;34m(\u001b[0m\u001b[0mlearn\u001b[0m\u001b[0;34m:\u001b[0m\u001b[0mLearner\u001b[0m\u001b[0;34m,\u001b[0m \u001b[0mstart_lr\u001b[0m\u001b[0;34m:\u001b[0m\u001b[0mFloats\u001b[0m\u001b[0;34m=\u001b[0m\u001b[0;36m1e-7\u001b[0m\u001b[0;34m,\u001b[0m \u001b[0mend_lr\u001b[0m\u001b[0;34m:\u001b[0m\u001b[0mFloats\u001b[0m\u001b[0;34m=\u001b[0m\u001b[0;36m10\u001b[0m\u001b[0;34m,\u001b[0m \u001b[0mnum_it\u001b[0m\u001b[0;34m:\u001b[0m\u001b[0mint\u001b[0m\u001b[0;34m=\u001b[0m\u001b[0;36m100\u001b[0m\u001b[0;34m,\u001b[0m \u001b[0mstop_div\u001b[0m\u001b[0;34m:\u001b[0m\u001b[0mbool\u001b[0m\u001b[0;34m=\u001b[0m\u001b[0;32mTrue\u001b[0m\u001b[0;34m,\u001b[0m \u001b[0mwd\u001b[0m\u001b[0;34m:\u001b[0m\u001b[0mfloat\u001b[0m\u001b[0;34m=\u001b[0m\u001b[0;32mNone\u001b[0m\u001b[0;34m)\u001b[0m\u001b[0;34m:\u001b[0m\u001b[0;34m\u001b[0m\u001b[0;34m\u001b[0m\u001b[0m\n",
      "\u001b[0;32m~/miniconda3/envs/fastai/lib/python3.7/site-packages/fastai/basic_train.py\u001b[0m in \u001b[0;36mfit\u001b[0;34m(self, epochs, lr, wd, callbacks)\u001b[0m\n\u001b[1;32m    176\u001b[0m         \u001b[0mcallbacks\u001b[0m \u001b[0;34m=\u001b[0m \u001b[0;34m[\u001b[0m\u001b[0mcb\u001b[0m\u001b[0;34m(\u001b[0m\u001b[0mself\u001b[0m\u001b[0;34m)\u001b[0m \u001b[0;32mfor\u001b[0m \u001b[0mcb\u001b[0m \u001b[0;32min\u001b[0m \u001b[0mself\u001b[0m\u001b[0;34m.\u001b[0m\u001b[0mcallback_fns\u001b[0m\u001b[0;34m]\u001b[0m \u001b[0;34m+\u001b[0m \u001b[0mlistify\u001b[0m\u001b[0;34m(\u001b[0m\u001b[0mcallbacks\u001b[0m\u001b[0;34m)\u001b[0m\u001b[0;34m\u001b[0m\u001b[0;34m\u001b[0m\u001b[0m\n\u001b[1;32m    177\u001b[0m         fit(epochs, self.model, self.loss_func, opt=self.opt, data=self.data, metrics=self.metrics,\n\u001b[0;32m--> 178\u001b[0;31m             callbacks=self.callbacks+callbacks)\n\u001b[0m\u001b[1;32m    179\u001b[0m \u001b[0;34m\u001b[0m\u001b[0m\n\u001b[1;32m    180\u001b[0m     \u001b[0;32mdef\u001b[0m \u001b[0mcreate_opt\u001b[0m\u001b[0;34m(\u001b[0m\u001b[0mself\u001b[0m\u001b[0;34m,\u001b[0m \u001b[0mlr\u001b[0m\u001b[0;34m:\u001b[0m\u001b[0mFloats\u001b[0m\u001b[0;34m,\u001b[0m \u001b[0mwd\u001b[0m\u001b[0;34m:\u001b[0m\u001b[0mFloats\u001b[0m\u001b[0;34m=\u001b[0m\u001b[0;36m0.\u001b[0m\u001b[0;34m)\u001b[0m\u001b[0;34m->\u001b[0m\u001b[0;32mNone\u001b[0m\u001b[0;34m:\u001b[0m\u001b[0;34m\u001b[0m\u001b[0;34m\u001b[0m\u001b[0m\n",
      "\u001b[0;32m~/miniconda3/envs/fastai/lib/python3.7/site-packages/fastai/utils/mem.py\u001b[0m in \u001b[0;36mwrapper\u001b[0;34m(*args, **kwargs)\u001b[0m\n\u001b[1;32m     78\u001b[0m \u001b[0;34m\u001b[0m\u001b[0m\n\u001b[1;32m     79\u001b[0m         \u001b[0;32mtry\u001b[0m\u001b[0;34m:\u001b[0m\u001b[0;34m\u001b[0m\u001b[0;34m\u001b[0m\u001b[0m\n\u001b[0;32m---> 80\u001b[0;31m             \u001b[0;32mreturn\u001b[0m \u001b[0mfunc\u001b[0m\u001b[0;34m(\u001b[0m\u001b[0;34m*\u001b[0m\u001b[0margs\u001b[0m\u001b[0;34m,\u001b[0m \u001b[0;34m**\u001b[0m\u001b[0mkwargs\u001b[0m\u001b[0;34m)\u001b[0m\u001b[0;34m\u001b[0m\u001b[0;34m\u001b[0m\u001b[0m\n\u001b[0m\u001b[1;32m     81\u001b[0m         \u001b[0;32mexcept\u001b[0m \u001b[0mException\u001b[0m \u001b[0;32mas\u001b[0m \u001b[0me\u001b[0m\u001b[0;34m:\u001b[0m\u001b[0;34m\u001b[0m\u001b[0;34m\u001b[0m\u001b[0m\n\u001b[1;32m     82\u001b[0m             if (\"CUDA out of memory\" in str(e) or\n",
      "\u001b[0;32m~/miniconda3/envs/fastai/lib/python3.7/site-packages/fastai/basic_train.py\u001b[0m in \u001b[0;36mfit\u001b[0;34m(epochs, model, loss_func, opt, data, callbacks, metrics)\u001b[0m\n\u001b[1;32m     88\u001b[0m             \u001b[0;32mfor\u001b[0m \u001b[0mxb\u001b[0m\u001b[0;34m,\u001b[0m\u001b[0myb\u001b[0m \u001b[0;32min\u001b[0m \u001b[0mprogress_bar\u001b[0m\u001b[0;34m(\u001b[0m\u001b[0mdata\u001b[0m\u001b[0;34m.\u001b[0m\u001b[0mtrain_dl\u001b[0m\u001b[0;34m,\u001b[0m \u001b[0mparent\u001b[0m\u001b[0;34m=\u001b[0m\u001b[0mpbar\u001b[0m\u001b[0;34m)\u001b[0m\u001b[0;34m:\u001b[0m\u001b[0;34m\u001b[0m\u001b[0;34m\u001b[0m\u001b[0m\n\u001b[1;32m     89\u001b[0m                 \u001b[0mxb\u001b[0m\u001b[0;34m,\u001b[0m \u001b[0myb\u001b[0m \u001b[0;34m=\u001b[0m \u001b[0mcb_handler\u001b[0m\u001b[0;34m.\u001b[0m\u001b[0mon_batch_begin\u001b[0m\u001b[0;34m(\u001b[0m\u001b[0mxb\u001b[0m\u001b[0;34m,\u001b[0m \u001b[0myb\u001b[0m\u001b[0;34m)\u001b[0m\u001b[0;34m\u001b[0m\u001b[0;34m\u001b[0m\u001b[0m\n\u001b[0;32m---> 90\u001b[0;31m                 \u001b[0mloss\u001b[0m \u001b[0;34m=\u001b[0m \u001b[0mloss_batch\u001b[0m\u001b[0;34m(\u001b[0m\u001b[0mmodel\u001b[0m\u001b[0;34m,\u001b[0m \u001b[0mxb\u001b[0m\u001b[0;34m,\u001b[0m \u001b[0myb\u001b[0m\u001b[0;34m,\u001b[0m \u001b[0mloss_func\u001b[0m\u001b[0;34m,\u001b[0m \u001b[0mopt\u001b[0m\u001b[0;34m,\u001b[0m \u001b[0mcb_handler\u001b[0m\u001b[0;34m)\u001b[0m\u001b[0;34m\u001b[0m\u001b[0;34m\u001b[0m\u001b[0m\n\u001b[0m\u001b[1;32m     91\u001b[0m                 \u001b[0;32mif\u001b[0m \u001b[0mcb_handler\u001b[0m\u001b[0;34m.\u001b[0m\u001b[0mon_batch_end\u001b[0m\u001b[0;34m(\u001b[0m\u001b[0mloss\u001b[0m\u001b[0;34m)\u001b[0m\u001b[0;34m:\u001b[0m \u001b[0;32mbreak\u001b[0m\u001b[0;34m\u001b[0m\u001b[0;34m\u001b[0m\u001b[0m\n\u001b[1;32m     92\u001b[0m \u001b[0;34m\u001b[0m\u001b[0m\n",
      "\u001b[0;32m~/miniconda3/envs/fastai/lib/python3.7/site-packages/fastai/basic_train.py\u001b[0m in \u001b[0;36mloss_batch\u001b[0;34m(model, xb, yb, loss_func, opt, cb_handler)\u001b[0m\n\u001b[1;32m     26\u001b[0m     \u001b[0;32mif\u001b[0m \u001b[0mopt\u001b[0m \u001b[0;32mis\u001b[0m \u001b[0;32mnot\u001b[0m \u001b[0;32mNone\u001b[0m\u001b[0;34m:\u001b[0m\u001b[0;34m\u001b[0m\u001b[0;34m\u001b[0m\u001b[0m\n\u001b[1;32m     27\u001b[0m         \u001b[0mloss\u001b[0m \u001b[0;34m=\u001b[0m \u001b[0mcb_handler\u001b[0m\u001b[0;34m.\u001b[0m\u001b[0mon_backward_begin\u001b[0m\u001b[0;34m(\u001b[0m\u001b[0mloss\u001b[0m\u001b[0;34m)\u001b[0m\u001b[0;34m\u001b[0m\u001b[0;34m\u001b[0m\u001b[0m\n\u001b[0;32m---> 28\u001b[0;31m         \u001b[0mloss\u001b[0m\u001b[0;34m.\u001b[0m\u001b[0mbackward\u001b[0m\u001b[0;34m(\u001b[0m\u001b[0;34m)\u001b[0m\u001b[0;34m\u001b[0m\u001b[0;34m\u001b[0m\u001b[0m\n\u001b[0m\u001b[1;32m     29\u001b[0m         \u001b[0mcb_handler\u001b[0m\u001b[0;34m.\u001b[0m\u001b[0mon_backward_end\u001b[0m\u001b[0;34m(\u001b[0m\u001b[0;34m)\u001b[0m\u001b[0;34m\u001b[0m\u001b[0;34m\u001b[0m\u001b[0m\n\u001b[1;32m     30\u001b[0m         \u001b[0mopt\u001b[0m\u001b[0;34m.\u001b[0m\u001b[0mstep\u001b[0m\u001b[0;34m(\u001b[0m\u001b[0;34m)\u001b[0m\u001b[0;34m\u001b[0m\u001b[0;34m\u001b[0m\u001b[0m\n",
      "\u001b[0;32m~/miniconda3/envs/fastai/lib/python3.7/site-packages/torch/tensor.py\u001b[0m in \u001b[0;36mbackward\u001b[0;34m(self, gradient, retain_graph, create_graph)\u001b[0m\n\u001b[1;32m    100\u001b[0m                 \u001b[0mproducts\u001b[0m\u001b[0;34m.\u001b[0m \u001b[0mDefaults\u001b[0m \u001b[0mto\u001b[0m\u001b[0;31m \u001b[0m\u001b[0;31m`\u001b[0m\u001b[0;31m`\u001b[0m\u001b[0;32mFalse\u001b[0m\u001b[0;31m`\u001b[0m\u001b[0;31m`\u001b[0m\u001b[0;34m.\u001b[0m\u001b[0;34m\u001b[0m\u001b[0;34m\u001b[0m\u001b[0m\n\u001b[1;32m    101\u001b[0m         \"\"\"\n\u001b[0;32m--> 102\u001b[0;31m         \u001b[0mtorch\u001b[0m\u001b[0;34m.\u001b[0m\u001b[0mautograd\u001b[0m\u001b[0;34m.\u001b[0m\u001b[0mbackward\u001b[0m\u001b[0;34m(\u001b[0m\u001b[0mself\u001b[0m\u001b[0;34m,\u001b[0m \u001b[0mgradient\u001b[0m\u001b[0;34m,\u001b[0m \u001b[0mretain_graph\u001b[0m\u001b[0;34m,\u001b[0m \u001b[0mcreate_graph\u001b[0m\u001b[0;34m)\u001b[0m\u001b[0;34m\u001b[0m\u001b[0;34m\u001b[0m\u001b[0m\n\u001b[0m\u001b[1;32m    103\u001b[0m \u001b[0;34m\u001b[0m\u001b[0m\n\u001b[1;32m    104\u001b[0m     \u001b[0;32mdef\u001b[0m \u001b[0mregister_hook\u001b[0m\u001b[0;34m(\u001b[0m\u001b[0mself\u001b[0m\u001b[0;34m,\u001b[0m \u001b[0mhook\u001b[0m\u001b[0;34m)\u001b[0m\u001b[0;34m:\u001b[0m\u001b[0;34m\u001b[0m\u001b[0;34m\u001b[0m\u001b[0m\n",
      "\u001b[0;32m~/miniconda3/envs/fastai/lib/python3.7/site-packages/torch/autograd/__init__.py\u001b[0m in \u001b[0;36mbackward\u001b[0;34m(tensors, grad_tensors, retain_graph, create_graph, grad_variables)\u001b[0m\n\u001b[1;32m     88\u001b[0m     Variable._execution_engine.run_backward(\n\u001b[1;32m     89\u001b[0m         \u001b[0mtensors\u001b[0m\u001b[0;34m,\u001b[0m \u001b[0mgrad_tensors\u001b[0m\u001b[0;34m,\u001b[0m \u001b[0mretain_graph\u001b[0m\u001b[0;34m,\u001b[0m \u001b[0mcreate_graph\u001b[0m\u001b[0;34m,\u001b[0m\u001b[0;34m\u001b[0m\u001b[0;34m\u001b[0m\u001b[0m\n\u001b[0;32m---> 90\u001b[0;31m         allow_unreachable=True)  # allow_unreachable flag\n\u001b[0m\u001b[1;32m     91\u001b[0m \u001b[0;34m\u001b[0m\u001b[0m\n\u001b[1;32m     92\u001b[0m \u001b[0;34m\u001b[0m\u001b[0m\n",
      "\u001b[0;31mKeyboardInterrupt\u001b[0m: "
     ]
    }
   ],
   "source": [
    "# this training was completed in train.py\n",
    "# learn.load('classifier-stage-3-v2')\n",
    "# learn.unfreeze()\n",
    "# learn.fit_one_cycle(5, slice(2e-5, 1e-3))\n",
    "# learn.save('classifier-stage-4-v2')"
   ]
  },
  {
   "cell_type": "code",
   "execution_count": 19,
   "metadata": {},
   "outputs": [
    {
     "data": {
      "text/plain": [
       "RNNLearner(data=TextClasDataBunch;\n",
       "\n",
       "Train: LabelList (25000 items)\n",
       "x: TextList\n",
       "xxbos xxmaj marie : xxmaj you are smooth . xxmaj dan : xxmaj no , i 'm not smooth . i 'm xxmaj dan . \n",
       " \n",
       "  xxmaj if you 're anything like me , smooth and single do not go together . xxmaj you see someone you like , rare enough as that can be , and you want to say something but you do n't . xxmaj or maybe you do say something but it ends up being perhaps the least intelligent thing you 've ever said in your life . xxmaj more often then not though , you stare from afar and admire without having to deal with taking that which most agree is the only way to get anywhere in life  a risk . xxmaj you ca n't blame a guy for being a little frightened though . xxmaj maybe he 's been burned hard before or maybe he 's trying to focus all his energy on his career . xxmaj there are reasons , some valid , some not , and all of them can be interpreted as excuses rather than reason . xxmaj you tell yourself you do n't need it or it is n't the right time for you but you still wish it were happening . xxmaj any way you break it down , it 's not easy . xxmaj sound familiar ? xxmaj if you thought yes even just a little , then xxup dan xxup in xxup real xxup life , the new comedy from director xxmaj peter xxmaj hedges , is a must - see . xxmaj it will reach inside of you and somehow manage to both break and warm your heart all at once . \n",
       " \n",
       "  xxmaj the xxmaj dan from the title is xxmaj dan xxmaj burns ( xxmaj steve xxmaj carell ) , an advice columnist who is admired for his insight into living a balanced , fulfilling and morally uplifting life . xxmaj four years or so before the film opens on xxmaj dan waking up to his day , he lost his wife and love of his life . xxmaj after that tragedy , xxmaj dan was left to raise their three daughters alone . xxmaj between that and focusing on his career , finding love again was not one of xxmaj dan 's priorities . xxmaj and so he became more functional than feeling . xxmaj removed from the power of intimacy , xxmaj dan no longer knows what it means to be that close to someone and has resigned himself to never knowing that again . xxmaj that is , until he meets xxmaj marie ( xxmaj juliette xxmaj binoche ) in a book and tackle shop in xxmaj connecticut on a quiet morning . xxmaj they 're interaction is casual , comfortable and it catches both of them off guard . xxmaj there is only one problem really . xxmaj she is already seeing someone . xxmaj unfortunately for all involved , that someone is xxmaj dan 's brother , xxmaj mitch ( xxmaj dane xxmaj cook ) . xxmaj his entire family has come up to their parents ' country home for their yearly visit and xxmaj dan must now spend the weekend pining and yearning for the fleeting feeling he had with xxmaj marie that morning . xxmaj it only lasted an hour or so but it only took that long to awaken xxmaj dan 's heart from its coma . \n",
       " \n",
       "  xxmaj with so many family members to deal with ( xxmaj jack xxmaj mahoney and xxmaj dianne xxmaj wiest are at the helm ) , xxup dan xxup in xxup real xxup life does drift away from its grander purpose from time to time . xxmaj while the cyclone of kids and parents and aunts and uncles makes for trying times for xxmaj dan , xxmaj hedges also uses it unnecessarily as a means to distract , with the presumption that it would ultimately make for a more complete film . xxmaj luckily , xxmaj hedges has got xxmaj carell to carry the heavy burden . xxmaj it is a pleasure to watch xxmaj steve xxmaj carell come into his own more and more with every picture he makes ( despite the occasional xxup evan xxup almighty - sized misstep ) . xxmaj he is charismatic , charming and obviously a sharp humorist . xxmaj as xxmaj dan , he is also self - deprecating , awkward and scared . xxmaj carell is the rare comedian who pushes himself to find character in his roles rather than rely solely on his comedic instincts and established persona . xxmaj perhaps more importantly , he is entirely relatable as xxmaj dan . xxmaj whether he 's flopping down on the cot in the laundry room where he is subjected to sleep as the only single adult at this reunion or fidgeting around the kitchen , unable to stan d still in his anxiety , xxmaj dan is every guy who has even been unsure of himself and felt alone in the crowd . xxmaj carell gives xxmaj dan so much heart that he becomes the heart of the film itself at the same time . \n",
       " \n",
       "  i wondered after seeing the film if i enjoyed the it as much as i did , despite its slight shortcomings ( xxmaj juliette xxmaj binoche  i know you might like to lighten up every now and then but i do n't recommend it unless there is chocolate involved ) , because of where i am in my life . xxmaj would someone who has found that someone else derive as much meaning and comfort from this film ? i ca n't say . xxmaj what i can say , as someone who knows what it means to be lonely , xxup dan xxup in xxup real xxup life knows what it means to be surprised by life and love and how these moments and people need to be appreciated and cherished . xxmaj it also knows that anyone who might be feeling lonely on any given day or for months at a time needs to be reminded that surprises still happen .,xxbos xxmaj although i 've long been a fan of xxmaj peter xxmaj weir , i had n't watched any of his xxmaj australian movies until i watched xxmaj the xxmaj last xxmaj wave . xxmaj and it was a pleasant , unpredictable surprise . \n",
       " \n",
       "  xxmaj richard xxmaj chamberlain plays xxmaj david , a lawyer invited to defend five aborigines charged with murdering another xxmaj aborigine . xxmaj for xxmaj david 's peers it 's a clear case of drunken disorder and they think they should plead guilty and serve a quick sentence . xxmaj but xxmaj david believes there 's a mystery underneath the murder , linked to tribal rituals . xxmaj as his investigation proceeds he learns not only things about his clients but about himself too . \n",
       " \n",
       "  xxmaj to reveal more would be to spoil one of the strangest movies i 've ever seen . i can only say that this movie goes in directions that no one will be expecting . \n",
       " \n",
       "  xxmaj there are many elements that make this a fascinating movie : xxmaj chamberlain 's acting , for instance ; but also the performances by xxmaj david xxmaj gulpilil , who plays a young aborigine who introduces xxmaj david into tribal mysteries ; and xxmaj xxunk xxmaj xxunk , who plays an old aborigine who 's a spiritual guide . xxmaj the relationships between these three characters make the heart of the movie . \n",
       " \n",
       "  xxmaj but there 's also the way xxmaj weir suggests the supernatural in the movie . xxmaj david has dreams that warn him of the future . xxmaj australia is undergoing awful weather , with storms , hail falling and even a mysterious black rain that may be nothing more than pollution . xxmaj but it 's also related to the case xxmaj david is defending . xxmaj how it 's related is one of the great revelations of the movie . xxmaj out of little events xxmaj weir manages to create an atmosphere of dread and oppression , suggesting future horrors without really showing anything . \n",
       " \n",
       "  xxmaj charles xxmaj wain 's score is fantastic , especially the use of the xxunk . xxmaj the photography is also quite good . xxmaj russell xxmaj boyd , xxmaj weir 's longtime xxup dp who won an xxmaj oscar in 2004 for xxmaj master and xxmaj commander , depicts a dark , creepy world full of mystery . \n",
       " \n",
       "  i also find it remarkable that for a movie centered on aborigines , it does n't turn into an indictment against white culture or into a sappy celebration of the their traditions , like xxmaj dances xxmaj with xxmaj wolves or xxmaj the xxmaj last xxmaj samurai . xxmaj this movie is too clever to be that simplistic . \n",
       " \n",
       "  xxmaj sometimes it can be frustrating , and it may upset viewers who expect to finish a movie with everything making sense ; but for those who do n't mind some strangeness or ambiguity , xxmaj the xxmaj last xxmaj wave is a great movie to watch .,xxbos i was up late flipping cable channels one night and ran into this movie from about 10 minutes into the start - every time i even thought going to bed , something kept on telling me to keep on watching it even though it was way way way past my bedtime . \n",
       " \n",
       "  xxmaj this movie could have been another easy slam dunk anti - gun film , but instead they chose to examine the aftereffects of the shootings . xxmaj and even better , the movie kept on with the real life - just when you think they are going to take the easy and obviously contrived way out , a twist comes along and changes the whole outlook of the movie . xxmaj this film not only does n't follow the formula , it shows how other events often lead up to and / or affect what happens afterwards . \n",
       " \n",
       "  i only wish the filmmakers had explored the issues around anti - depressant drugs more - the kids from xxmaj xxunk who did the shootings were on them for years and it was frightening to watch the way xxmaj deanna popped them every time the nightmares started . xxmaj up until recently they were dispensing the stuff like candy and only now do they even begin to understand what long term effects the drugs have . xxmaj it was very refreshing to see that the mental illness aspect of the story was given quite a bit of film , having a relative who suffers from a mental illness , i can say that the movie was dead nuts on in every aspect of mental illnesses . xxmaj bravo to the director and writer who obviously did their homework on those issues . xxmaj and for those who think certain things could n't happen in a hospital ( i do n't want to tell any particulars ) , you 're dead wrong on that too - i 've been there . xxmaj the script was so real it was amazing . \n",
       " \n",
       "  xxmaj go xxup buy this film and show it to your teenage kids before it 's too late . xxmaj someday they 'll thank you for it .,xxbos xxmaj it is very hard to rate this film . xxmaj as entertainment value for 21st century viewers , it fails miserably . xxmaj however , for the student of early sound films and history , it is a jewel . \" xxmaj show of xxmaj shows \" was a revue filmed to compete with xxup mgm 's successful \" xxmaj hollywood xxmaj revue of 1929 \" , which still survives intact complete with its xxmaj technicolor scenes . \n",
       " \n",
       "  xxmaj the purpose of the all - star revue was to showcase a particular studio 's silent stars in speaking roles , and show that they could make the transition . xxmaj however , xxmaj warner xxmaj bros. seems to have forgotten this and employs many acts and stars that they did n't even have under long - term contract such as xxmaj ben xxmaj turpin , xxmaj lloyd xxmaj hamilton , xxmaj beatrice xxmaj lillie , and even a marching band . xxmaj meanwhile , their biggest talent - xxmaj al xxmaj jolson - is noticeably absent . xxmaj even at a high salary he could not be compelled to join in . xxmaj almost every act is overly long and the film plays like a dozen or so xxmaj vitaphone shorts strung together with no continuity . xxmaj the finale is also overly long , but it is really enjoyable with all of its dance numbers . \n",
       " \n",
       "  xxmaj the highlights of the film are two numbers from xxmaj winnie xxmaj lightner - \" xxmaj xxunk xxmaj xxunk \" and \" xxmaj singin in the xxmaj bathtub \" , a couple of numbers with xxmaj nick xxmaj lucas , xxmaj john xxmaj barrymore performing xxmaj shakespeare , and the xxmaj chinese xxmaj fantasy \" xxmaj li xxmaj po xxmaj li \" with xxmaj nick xxmaj lucas and xxmaj myrna xxmaj loy . xxmaj this last number is the only part of the film that survives in xxmaj technicolor , and it really is quite attractive . xxmaj reasonably enough , the players in these good acts were long - term xxmaj warner xxmaj bros. stars so perhaps the director knew how to play to their strengths since he was familiar with them . \n",
       " \n",
       "  xxmaj this film acts as a snapshot at an odd point in film history - the year 1929 , which was the bridge year between two eras - the silent and sound eras , and the roaring 20 's and the xxmaj great xxmaj depression . xxmaj just two years later this same film would have had an entirely different cast , as xxmaj warner xxmaj bros. would abandon its silent era stars and the stars they hired just to produce the early musicals in favor of those stars that gave xxmaj warner xxmaj bros. its distinctive urban look and feel - xxmaj james xxmaj cagney , xxmaj joan xxmaj blondell , xxmaj edward xxup g. xxmaj robinson , and others .,xxbos xxmaj when i first got my xxup n64 when i was five or six , i fell in love with it , and my first game was xxmaj super xxmaj mario xxunk i xxup loved xxunk graphics were great for it 's time , a good plot , great courses and above all , the best music i heard in a xxmaj nintendo game . \n",
       " \n",
       "  i do n't remember the plot completely , but i think xxmaj princess xxmaj peach was kidnapped by xxmaj bowser , and xxmaj mario has to rescue her . xxmaj the object of the game is to get 120 stars from the curses in the castle . xxmaj each had about five or six xxunk to get the stars . xxmaj there are xxunk parts of the castle , where you can get more stars . xxmaj but of course , you have beat xxunk think there are three levels to beat xxmaj bowser on * xxmaj lets start with the characters . xxmaj mario is the main character , and gets helpful advice from xxmaj toad , so he is basically one of your only alliances . i heard that xxmaj luigi and xxmaj yoshi are in the game towards the end . xxmaj the main villain is xxmaj bowser , and there are a bunch of other characters like xxmaj boo and xxmaj xxunk . xxmaj the characters are really great . \n",
       " \n",
       "  xxmaj next , how about the xxunk say xxmaj gameplay is more important then the graphics , and i agree completely . xxmaj but with he great plot , there are great graphics . xxmaj especially for it 's time . i have a whole bunch of other xxmaj nintendo games like 007 and their graphics do n't compare to xxmaj super xxmaj mario . xxmaj bright colors , great effects and awesome sound effects . i found the graphics in the water courses very very good . xxmaj next to the xxmaj bowser world ones , it has the best graphics in the game . \n",
       " \n",
       "  xxmaj now , the music . xxmaj this is my favorite part of the game . xxmaj growing up , when i played this at a young age , xxmaj i'd gladly leave the game on all night so the music would put me to sleep . xxmaj especially the music from xxmaj jolly xxmaj roger xxmaj bay , which was peaceful and wonderful . xxmaj there are others that are great too , especially in , once again , the worlds with xxmaj bowser , are the ones that stick with me the most and are my favorites . \n",
       " \n",
       "  xxmaj this game was my favorite past time as a developing gamer , and i love it . xxmaj this game gets 10 / 10 or xxrep 5 * ( 5 ) / xxrep 5 * ( 5 ) xxup go xxup play xxup the xxup game !\n",
       "y: CategoryList\n",
       "pos,pos,pos,pos,pos\n",
       "Path: data;\n",
       "\n",
       "Valid: LabelList (25000 items)\n",
       "x: TextList\n",
       "xxbos i saw this movie today ( opened yesterday here ) and was simply delighted . \n",
       " \n",
       "  i saw a review that said something to the effect that the reviewer thought this would be just another teen movie , but then found it was based on xxmaj shakespeare 's xxmaj twelfth xxmaj night ... and then started trying to justify liking this flick on xxmaj shakespearean grounds . i really think this is going way overboard : the only connections i could see with xxmaj twelfth xxmaj night are ( a ) the basic conceit of a girl masquerading as a man ; ( b ) the extensive male - female humor arising out of that basic conceit ; and ( c ) some of the names ( including xxmaj viola & xxmaj duke ) . \n",
       " \n",
       "  xxmaj aside from those names , the thematic xxunk ( a & b ) are really great themes for any script , and this movie 's script is no exception . xxmaj beyond that , though , this really is a simply delightful and very contemporary / traditional teen flick . xxmaj and that 's a perfectly legit genre even if highbrows have to find an excuse to like it ... like alluding to xxmaj shakespeare . \n",
       " \n",
       "  xxmaj the movie is bright , fast - paced , emotive , stylized , funny ... full of teen hormones and teen humor and male / female humor suitable for all ages . xxmaj and that 's really the best part xxup imho : really just about every male stereotype and every female stereotype is depicted in roundly appealing over - the - top fun . xxmaj those stereotypes are parodied relentlessly but affectionately , with such a complexity of invention that i 'm still a little bewildered ... but really do n't feel at all disappointed in that regard , it 's not that kind of a movie : things come at you fast and fun and you get a laugh and a groan and then move on to the next split - second happening . \n",
       " \n",
       "  xxmaj amanda xxmaj bynes really is just delightful as xxmaj viola / xxmaj sebastian ; xxmaj channing xxmaj tatum makes a wonderful xxmaj duke ; xxmaj david xxmaj cross does a wonderfully over the top xxmaj principal xxmaj gold . xxmaj all of the acting and characterizations were fine and on target . xxmaj cinematography was excellent . \n",
       " \n",
       "  xxmaj wonderful entertainment from beginning to end ... check it out !,xxbos xxmaj being an xxmaj israeli xxmaj jew of naturally sarcastic nature as well as a lover of different and independent cinema , it always gives me pleasure to see a film that takes a view on the holocaust that 's sensitive and respectful while also being original and unusual . xxmaj while i have n't read the book  or , for that matter , heard of its existence prior to watching the film  and therefore can not , like some other reviewers , comment on how they stack up in comparison , xxmaj everything xxmaj is xxmaj illuminated gave me great pleasure , and i can certainly comment on that . \n",
       " \n",
       "  xxmaj to label xxmaj everything xxmaj is xxmaj illuminated a holocaust film would be to do it great injustice , even though it is undeniably about the holocaust . xxmaj so would labeling it as a comedy or a travel film , although it 's about a journey and is as exceptionally funny as it is moving . xxmaj everything xxmaj is xxmaj illuminated is about xxmaj jonathan xxmaj safran xxmaj foer  played to minimalist perfection by xxmaj elijah xxmaj wood , in the most impressive dramatic performance i 've seen him in yet , with a poker face that shows nothing and reveals all  a young xxmaj american xxmaj jew , and an obsessive collector of family xxunk and historical artifacts , who travels to the xxmaj ukraine on a journey to find the woman who saved his grandfather from the xxmaj nazis . xxmaj it 's also about xxmaj alex , his tour guide through the xxmaj ukraine , and xxmaj alex 's grandfather . xxmaj what 's fascinating about these characters is that in the beginning of the film they look like comic relief to balance out the melancholy nature of xxmaj wood 's character ; but both xxmaj alex and his grandfather go through fascinating changes throughout the film , and turn out to be at least as important as xxmaj jonathan . xxmaj in fact , xxmaj boris xxmaj leskin 's as the grumpy , self - declared blind grandfather turns out to be the finest dramatic performance in the film . \n",
       " \n",
       "  xxmaj aside from the surreal nature of the film and the characters , the beautiful mix of original acoustic music and xxmaj russian folk music , the sensitive cinematography and the chilling contrast between the beauty of the landscapes and the horrors of history , what made xxmaj everything xxmaj is xxmaj illuminated a powerful and moving experience for me was the fact that from xxmaj alex and his grandfather we get a very different and original viewpoint on this painful subject ; several excellent films , such as xxmaj the xxmaj grey xxmaj zone and xxmaj downfall , have already given us the point of view of the lower - rank xxmaj nazis who are presented as human beings who are n't necessarily fully aware of the moral implications of their actions but are caught up in the reality of the war . xxmaj everything xxmaj is xxmaj illuminated presents a point of view rarely treated before : xxmaj alex 's point of view is that of a young man who was born many years after the war , who sees it as hardly more than cold historical fact , who finds himself having to face up to the horrors his own people  and maybe his own family as well  were capable of . xxmaj the change in xxmaj alex 's attitude  and his grandfather 's  towards xxmaj jonathan , towards the xxmaj holocaust , and towards the xxmaj jewish people in general , makes the film a fascinating and original study in character development . \n",
       " \n",
       "  xxmaj everything xxmaj is xxmaj illuminated is a terrific directorial debut for actor xxmaj liev xxmaj schreiber , and one of the most original and unique films of 2005 . xxmaj it 's a highly recommended viewing experience , especially or anyone interested in the holocaust and xxmaj world xxmaj war xxup ii .,xxbos i found the story to be just enough of a thriller that the wonderful henry xxunk music did n't lull me . julie andrews was excellant and i sure do n't understand why this movie had problems at the box office when it came out because it just makes me happy at the end to have everybody singing . and i do like happy ever after endings which i think you can say this movie has along with some traditional blake edwards humor ...,xxbos xxmaj you know sometimes you just got ta have it ? xxmaj that 's how this movie is with me . i am almost embarrassed to admit that i like it , it is so goofy in some parts , but i find myself reaching for it when i 'm down and just need a good laugh ... and trust me , i am just not a \" goofy movie \" kinda guy . \n",
       " \n",
       "  xxmaj you can read the synopsis so i do n't have to bore you with that , just rest assured , if you like xxmaj kelsey xxmaj grammer you will probably like this movie . \n",
       " \n",
       "  xxmaj one more thing , be xxup sure to watch the end credits . xxmaj you do n't need to read them , just watch them and catch the performance of \" xxmaj in the xxmaj navy \" by the xxmaj village xxmaj people ... and friends .,xxbos i was n't expecting much from this tale of a kid whose term paper is stolen and turned into a movie script .. who then he travels to hollywood to get even .. but .. hey .. it 's still a fun film . xxmaj frankie xxmaj muniz of \" xxmaj malcom in the xxmaj middle \" fame stars as the kid and is fairly good and xxmaj amanda xxmaj bynes as his friend is also very good . xxmaj yea the film does work as an advertisement for xxmaj universal xxmaj studios theme park and is really kinda a silly kids film .. but i enjoyed it anyways . xxup grade : xxup b-\n",
       "y: CategoryList\n",
       "pos,pos,pos,pos,pos\n",
       "Path: data;\n",
       "\n",
       "Test: None, model=SequentialRNN(\n",
       "  (0): MultiBatchEncoder(\n",
       "    (module): AWD_LSTM(\n",
       "      (encoder): Embedding(60003, 400, padding_idx=1)\n",
       "      (encoder_dp): EmbeddingDropout(\n",
       "        (emb): Embedding(60003, 400, padding_idx=1)\n",
       "      )\n",
       "      (rnns): ModuleList(\n",
       "        (0): WeightDropout(\n",
       "          (module): LSTM(400, 1150, batch_first=True)\n",
       "        )\n",
       "        (1): WeightDropout(\n",
       "          (module): LSTM(1150, 1150, batch_first=True)\n",
       "        )\n",
       "        (2): WeightDropout(\n",
       "          (module): LSTM(1150, 400, batch_first=True)\n",
       "        )\n",
       "      )\n",
       "      (input_dp): RNNDropout()\n",
       "      (hidden_dps): ModuleList(\n",
       "        (0): RNNDropout()\n",
       "        (1): RNNDropout()\n",
       "        (2): RNNDropout()\n",
       "      )\n",
       "    )\n",
       "  )\n",
       "  (1): PoolingLinearClassifier(\n",
       "    (layers): Sequential(\n",
       "      (0): BatchNorm1d(1200, eps=1e-05, momentum=0.1, affine=True, track_running_stats=True)\n",
       "      (1): Dropout(p=0.2)\n",
       "      (2): Linear(in_features=1200, out_features=50, bias=True)\n",
       "      (3): ReLU(inplace)\n",
       "      (4): BatchNorm1d(50, eps=1e-05, momentum=0.1, affine=True, track_running_stats=True)\n",
       "      (5): Dropout(p=0.1)\n",
       "      (6): Linear(in_features=50, out_features=2, bias=True)\n",
       "    )\n",
       "  )\n",
       "), opt_func=functools.partial(<class 'torch.optim.adam.Adam'>, betas=(0.9, 0.99)), loss_func=FlattenedLoss of CrossEntropyLoss(), metrics=[<function accuracy at 0x7f68b7c921e0>], true_wd=True, bn_wd=True, wd=0.01, train_bn=True, path=PosixPath('data'), model_dir='models', callback_fns=[<class 'fastai.basic_train.Recorder'>], callbacks=[RNNTrainer\n",
       "learn: ...\n",
       "alpha: 2.0\n",
       "beta: 1.0], layer_groups=[Sequential(\n",
       "  (0): Embedding(60003, 400, padding_idx=1)\n",
       "  (1): EmbeddingDropout(\n",
       "    (emb): Embedding(60003, 400, padding_idx=1)\n",
       "  )\n",
       "), Sequential(\n",
       "  (0): WeightDropout(\n",
       "    (module): LSTM(400, 1150, batch_first=True)\n",
       "  )\n",
       "  (1): RNNDropout()\n",
       "), Sequential(\n",
       "  (0): WeightDropout(\n",
       "    (module): LSTM(1150, 1150, batch_first=True)\n",
       "  )\n",
       "  (1): RNNDropout()\n",
       "), Sequential(\n",
       "  (0): WeightDropout(\n",
       "    (module): LSTM(1150, 400, batch_first=True)\n",
       "  )\n",
       "  (1): RNNDropout()\n",
       "), Sequential(\n",
       "  (0): PoolingLinearClassifier(\n",
       "    (layers): Sequential(\n",
       "      (0): BatchNorm1d(1200, eps=1e-05, momentum=0.1, affine=True, track_running_stats=True)\n",
       "      (1): Dropout(p=0.2)\n",
       "      (2): Linear(in_features=1200, out_features=50, bias=True)\n",
       "      (3): ReLU(inplace)\n",
       "      (4): BatchNorm1d(50, eps=1e-05, momentum=0.1, affine=True, track_running_stats=True)\n",
       "      (5): Dropout(p=0.1)\n",
       "      (6): Linear(in_features=50, out_features=2, bias=True)\n",
       "    )\n",
       "  )\n",
       ")])"
      ]
     },
     "execution_count": 19,
     "metadata": {},
     "output_type": "execute_result"
    }
   ],
   "source": [
    "learn.load('classifier-stage-4-v2')"
   ]
  },
  {
   "cell_type": "code",
   "execution_count": 20,
   "metadata": {},
   "outputs": [
    {
     "data": {
      "text/plain": [
       "(Category pos, tensor(1), tensor([2.1590e-05, 9.9998e-01]))"
      ]
     },
     "execution_count": 20,
     "metadata": {},
     "output_type": "execute_result"
    }
   ],
   "source": [
    "learn.predict(\"I like this movie.\")"
   ]
  },
  {
   "cell_type": "code",
   "execution_count": 24,
   "metadata": {},
   "outputs": [
    {
     "data": {
      "text/plain": [
       "(Category neg, tensor(0), tensor([0.9755, 0.0245]))"
      ]
     },
     "execution_count": 24,
     "metadata": {},
     "output_type": "execute_result"
    }
   ],
   "source": [
    "learn.predict(\"watching this film was like pins in my eyes\")"
   ]
  },
  {
   "cell_type": "code",
   "execution_count": 22,
   "metadata": {},
   "outputs": [
    {
     "data": {
      "text/plain": [
       "(Category neg, tensor(0), tensor([0.8881, 0.1119]))"
      ]
     },
     "execution_count": 22,
     "metadata": {},
     "output_type": "execute_result"
    }
   ],
   "source": [
    "learn.predict(\"This movie sucked\")"
   ]
  },
  {
   "cell_type": "code",
   "execution_count": 26,
   "metadata": {},
   "outputs": [
    {
     "data": {
      "text/plain": [
       "(Category pos, tensor(1), tensor([0.4380, 0.5620]))"
      ]
     },
     "execution_count": 26,
     "metadata": {},
     "output_type": "execute_result"
    }
   ],
   "source": [
    "review = \"\"\"\n",
    "Suicide Squad was a disappointment to me. May be I got hooked on the hype or was expecting too much from WB. This movie had a great concept that we saw on the small screen, both TV series and animated. For some reason, those formats did it better than this theatrical release. \n",
    "\n",
    "This movie suffered from all fronts, poor writing which is the number one problem for me. The story was just all over the place with such in coherency, it's visible at every point. Not enough time was spent in developing these characters for their introduction to the big stage. Poor dialogue was another major problem which is just so stupid at some points. \n",
    "\n",
    "But Suicide Squad still could have been saved with the main plot and a great villain. Sadly that too was a major problem. The main plot didn't make sense because the movie itself went in so many directions that none of it could have come together and gel.The villain was a total failure. Nothing about this person was intriguing and just falls so flat. Story and main purpose was so awful for a big summer blockbuster. \n",
    "\n",
    "This movie probably only had about two things going for it. Majority of the casting was great including Will Smith, Margot Robbie, Viola Davis, Jared Leto, and Jai Courtney. Yes Jai Courtney, I'm shocked too. I really think his role should have been expanded. Notable miscast would be Joel Kinnaman and Cara Delevingne. Joel Kinnaman portrayal of Rick Flag was out of touch of what that character should be and for Enchantress, someone, more older with more acting depth should have been chosen over Cara Delevingne. \n",
    "\n",
    "The other thing would be, through and through it's a much better movie than Batman V Superman. I know that's not really helping but still. A weak six stars and a onetime watch.\n",
    "\"\"\"\n",
    "\n",
    "# 56% positive review probability\n",
    "# which is pretty close to the review, which rated Suicide Squad 6/10\n",
    "learn.predict(review)"
   ]
  },
  {
   "cell_type": "code",
   "execution_count": 32,
   "metadata": {},
   "outputs": [],
   "source": [
    "interp = ClassificationInterpretation.from_learner(learn)"
   ]
  },
  {
   "cell_type": "code",
   "execution_count": 33,
   "metadata": {},
   "outputs": [],
   "source": [
    "losses, idxs = interp.top_losses()"
   ]
  },
  {
   "cell_type": "code",
   "execution_count": 44,
   "metadata": {},
   "outputs": [
    {
     "data": {
      "text/plain": [
       "tensor([10.7645,  8.9936,  7.5867,  7.5138,  7.3499,  7.2538,  7.2468,  7.1938,\n",
       "         7.1878,  7.1373])"
      ]
     },
     "execution_count": 44,
     "metadata": {},
     "output_type": "execute_result"
    }
   ],
   "source": [
    "losses[:10]"
   ]
  },
  {
   "cell_type": "code",
   "execution_count": 37,
   "metadata": {},
   "outputs": [
    {
     "data": {
      "text/plain": [
       "[('neg', 'pos', 4077), ('pos', 'neg', 1609)]"
      ]
     },
     "execution_count": 37,
     "metadata": {},
     "output_type": "execute_result"
    }
   ],
   "source": [
    "interp.most_confused(min_val=5)"
   ]
  }
 ],
 "metadata": {
  "kernelspec": {
   "display_name": "Python 3",
   "language": "python",
   "name": "python3"
  },
  "language_info": {
   "codemirror_mode": {
    "name": "ipython",
    "version": 3
   },
   "file_extension": ".py",
   "mimetype": "text/x-python",
   "name": "python",
   "nbconvert_exporter": "python",
   "pygments_lexer": "ipython3",
   "version": "3.7.2"
  }
 },
 "nbformat": 4,
 "nbformat_minor": 2
}
